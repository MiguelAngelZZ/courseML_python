{
 "cells": [
  {
   "cell_type": "markdown",
   "metadata": {},
   "source": [
    "## Porqué python?\n",
    "\n",
    "La mayoría de las empresas requieren que sus científicos de datos hagan más que modelado predictivo (es decir, aprendizaje automático). Al menos, probablemente se le pedirá que mantenga los flujos de datos que alimentan sus modelos, y esas canalizaciones de datos probablemente se construirán en Python. El estándar de la industria para la creación y mantenimiento de los flujos hoy en día es Airflow basado en Python. Se estima que el 100% de los científicos de datos en Facebook usan Python cada semana, mientras que tal vez el 10% o más usa activamente R. Por lo que probablemente sea más eficiente elegir Python: aunque probablemente pueda evitar usar R una vez que haya conseguido un trabajo, es poco probable que pueda evitar usar Python.\n",
    "\n",
    "Python tiene una sólida reputación por ser fácil de aprender. Los beneficios de la facilidad de aprendizaje de Python son especialmente evidentes cuando comienza a utilizar funciones del lenguaje más allá del modelado estadístico. Esas características incluyen cosas como empaquetar los proyectos para hacer distribuciones, desarrollar interfaces de línea de comandos, modelar sus estructuras de datos con ORM como SQLAlchemy, entre otros. El uso de Python hará que sea más fácil dominar esas características y, como resultado, el usuario se beneficiará.\n",
    "\n",
    "Por último, es probable que llegue al punto en elque se necesite que los modelos estén disponibles en tiempo real para los usuarios finales. Para resolver ese problema, deberá crear una aplicación web basada en REST, que es mucho más fácil de hacer con Python. De hecho, Python tiene algunos de los entornos de aplicaciones web más populares del mundo, a saber, Django y Flask. Es mucho más probable que las herramientas de implementación interna de la empresa sean compatibles con esos entornos y es relativamente poco probable que sean compatibles con R.\n",
    "\n",
    "La popularidad de esos entornos también significa que están respaldados por proveedores de plataforma como servicio como Heroku o Amazon. Se pueden publicar los proyectos personales en línea por una fracción del esfuerzo que requeriría implementar los mismos proyectos en R. Esto puede llevar a que el científico sea capaz de capturar de manera autónoma más funciones para los modelos, teniendo un efecto dramático en el impacto de las soluciones que puede ofrecer.\n",
    "\n",
    "## Qué necesitamos instalar?\n",
    "\n",
    "* [Anaconda](https://www.anaconda.com/products/individual) versión 3.X.\n",
    "* [Numpy](https://numpy.org/): Librería apta para álgebra lineal y matrices multidimensionales\n",
    "* [Scipy](http://www.scipy.org/): Librería adicional para programación científica\n",
    "* [Matplotlib](http://matplotlib.sf.net/): Bibliotecas para graficación\n",
    "* [Pandas](http://pandas.pydata.org/):  Versión Python del dataframes de R\n",
    "* [scikit-learn](http://scikit-learn.org/): biblioteca de aprendizaje automático.\n",
    "\n",
    "## Verificando la instalación\n"
   ]
  },
  {
   "cell_type": "code",
   "execution_count": 1,
   "metadata": {},
   "outputs": [
    {
     "name": "stdout",
     "output_type": "stream",
     "text": [
      "Python version: 3.6.9 (default, Nov  7 2019, 10:44:02) \n",
      "[GCC 8.3.0]\n",
      "IPython: 7.13.0\n",
      "numpy: 1.18.2\n",
      "scipy: 1.4.1\n",
      "matplotlib: 3.2.1\n",
      "pandas: 1.0.3\n",
      "scikit-learn: 0.22.2.post1\n"
     ]
    }
   ],
   "source": [
    "import sys\n",
    "\n",
    "print('Python version:', sys.version)\n",
    "\n",
    "import IPython\n",
    "print('IPython:', IPython.__version__)\n",
    "\n",
    "import numpy\n",
    "print('numpy:', numpy.__version__)\n",
    "\n",
    "import scipy\n",
    "print('scipy:', scipy.__version__)\n",
    "\n",
    "import matplotlib\n",
    "print('matplotlib:', matplotlib.__version__)\n",
    "\n",
    "import pandas\n",
    "print('pandas:', pandas.__version__)\n",
    "\n",
    "import sklearn\n",
    "print('scikit-learn:', sklearn.__version__)"
   ]
  },
  {
   "cell_type": "markdown",
   "metadata": {},
   "source": [
    "## I. Usando python como calculadora"
   ]
  },
  {
   "cell_type": "code",
   "execution_count": 2,
   "metadata": {},
   "outputs": [
    {
     "data": {
      "text/plain": [
       "5"
      ]
     },
     "execution_count": 2,
     "metadata": {},
     "output_type": "execute_result"
    }
   ],
   "source": [
    "3+2"
   ]
  },
  {
   "cell_type": "code",
   "execution_count": 4,
   "metadata": {},
   "outputs": [
    {
     "data": {
      "text/plain": [
       "0.5"
      ]
     },
     "execution_count": 4,
     "metadata": {},
     "output_type": "execute_result"
    }
   ],
   "source": [
    "(3*2)/12"
   ]
  },
  {
   "cell_type": "code",
   "execution_count": 5,
   "metadata": {},
   "outputs": [
    {
     "ename": "NameError",
     "evalue": "name 'sqrt' is not defined",
     "output_type": "error",
     "traceback": [
      "\u001b[0;31m---------------------------------------------------------------------------\u001b[0m",
      "\u001b[0;31mNameError\u001b[0m                                 Traceback (most recent call last)",
      "\u001b[0;32m<ipython-input-5-e865934c09d2>\u001b[0m in \u001b[0;36m<module>\u001b[0;34m\u001b[0m\n\u001b[0;32m----> 1\u001b[0;31m \u001b[0msqrt\u001b[0m\u001b[0;34m(\u001b[0m\u001b[0;36m79\u001b[0m\u001b[0;34m)\u001b[0m\u001b[0;34m\u001b[0m\u001b[0;34m\u001b[0m\u001b[0m\n\u001b[0m",
      "\u001b[0;31mNameError\u001b[0m: name 'sqrt' is not defined"
     ]
    }
   ],
   "source": [
    "sqrt(79)"
   ]
  },
  {
   "cell_type": "markdown",
   "metadata": {},
   "source": [
    "(En Jupyter notebook presione Shift+Enter para que se ejecute una celda).\n",
    "\n",
    "En las líneas anteriores, se han visto brevemente, dos tipos de datos diferentes: números enteros y números de punto flotante, también conocidos como números decimales.\n",
    "\n",
    "También hemos visto la primera instancia de una declaración de importación. Python tiene una gran cantidad de bibliotecas incluidas con la distribución. La mayoría de estas variables y funciones no son accesibles desde una sesión interactiva normal de Python. En su lugar, debe importar la librería que dispone de las funciones. Por ejemplo, hay un módulo matemático que contiene muchas funciones útiles. Para acceder, digamos, a la función de raíz cuadrada, primero debe \"*llamarla desde la librería correspondiente*\""
   ]
  },
  {
   "cell_type": "code",
   "execution_count": 8,
   "metadata": {},
   "outputs": [
    {
     "data": {
      "text/plain": [
       "8.888194417315589"
      ]
     },
     "execution_count": 8,
     "metadata": {},
     "output_type": "execute_result"
    }
   ],
   "source": [
    "from math import sqrt\n",
    "sqrt(79)"
   ]
  },
  {
   "cell_type": "markdown",
   "metadata": {},
   "source": [
    "o cargar la librería directamente."
   ]
  },
  {
   "cell_type": "code",
   "execution_count": 10,
   "metadata": {},
   "outputs": [
    {
     "data": {
      "text/plain": [
       "8.888194417315589"
      ]
     },
     "execution_count": 10,
     "metadata": {},
     "output_type": "execute_result"
    }
   ],
   "source": [
    "import math\n",
    "math.sqrt(79)"
   ]
  },
  {
   "cell_type": "markdown",
   "metadata": {},
   "source": [
    "Puede crear variables usando el signo `=`."
   ]
  },
  {
   "cell_type": "code",
   "execution_count": 12,
   "metadata": {},
   "outputs": [
    {
     "data": {
      "text/plain": [
       "314.1592653589793"
      ]
     },
     "execution_count": 12,
     "metadata": {},
     "output_type": "execute_result"
    }
   ],
   "source": [
    "r = 10\n",
    "pi = math.pi\n",
    "area = pi*r**2 \n",
    "area"
   ]
  },
  {
   "cell_type": "markdown",
   "metadata": {},
   "source": [
    "Existen algunos nombres reservados por `Python` y no pueden usarse para la creación de variables:\n",
    "\n",
    "`and, as, assert, break, class, continue, def, del, elif, else, except, \n",
    "exec, finally, for, from, global, if, import, in, is, lambda, not, or,\n",
    "pass, print, raise, return, try, while, with, yield`\n",
    "\n",
    "Por ejemplo:"
   ]
  },
  {
   "cell_type": "code",
   "execution_count": 14,
   "metadata": {},
   "outputs": [
    {
     "ename": "SyntaxError",
     "evalue": "invalid syntax (<ipython-input-14-7190e23248fb>, line 1)",
     "output_type": "error",
     "traceback": [
      "\u001b[0;36m  File \u001b[0;32m\"<ipython-input-14-7190e23248fb>\"\u001b[0;36m, line \u001b[0;32m1\u001b[0m\n\u001b[0;31m    as = 0\u001b[0m\n\u001b[0m     ^\u001b[0m\n\u001b[0;31mSyntaxError\u001b[0m\u001b[0;31m:\u001b[0m invalid syntax\n"
     ]
    }
   ],
   "source": [
    "as = 0"
   ]
  },
  {
   "cell_type": "markdown",
   "metadata": {},
   "source": [
    "## Cadenas\n",
    "\n",
    "Son listas de caracteres que se pueden definir utilizando comillas simples o dobles."
   ]
  },
  {
   "cell_type": "code",
   "execution_count": 15,
   "metadata": {},
   "outputs": [
    {
     "data": {
      "text/plain": [
       "'Bienvenido a clase'"
      ]
     },
     "execution_count": 15,
     "metadata": {},
     "output_type": "execute_result"
    }
   ],
   "source": [
    "'Bienvenido a clase'"
   ]
  },
  {
   "cell_type": "code",
   "execution_count": 16,
   "metadata": {},
   "outputs": [
    {
     "data": {
      "text/plain": [
       "'Bienvenido a clase'"
      ]
     },
     "execution_count": 16,
     "metadata": {},
     "output_type": "execute_result"
    }
   ],
   "source": [
    "\"Bienvenido a clase\""
   ]
  },
  {
   "cell_type": "markdown",
   "metadata": {},
   "source": [
    "Estas pueden ser asignadas a variables"
   ]
  },
  {
   "cell_type": "code",
   "execution_count": 17,
   "metadata": {},
   "outputs": [],
   "source": [
    "saludo = 'Bienvenido a clase'"
   ]
  },
  {
   "cell_type": "markdown",
   "metadata": {},
   "source": [
    "La instrucción `print` es usada para mostrar el contenido de la variable."
   ]
  },
  {
   "cell_type": "code",
   "execution_count": 18,
   "metadata": {},
   "outputs": [
    {
     "name": "stdout",
     "output_type": "stream",
     "text": [
      "Bienvenido a clase\n"
     ]
    }
   ],
   "source": [
    "print(saludo)"
   ]
  },
  {
   "cell_type": "markdown",
   "metadata": {},
   "source": [
    "Y puede ser combinado con otros elementos:"
   ]
  },
  {
   "cell_type": "code",
   "execution_count": 21,
   "metadata": {},
   "outputs": [
    {
     "name": "stdout",
     "output_type": "stream",
     "text": [
      "Esto es un GRAN!!!!Bienvenido a clase\n"
     ]
    }
   ],
   "source": [
    "print('Esto es un GRAN!!!!' + saludo)"
   ]
  },
  {
   "cell_type": "markdown",
   "metadata": {},
   "source": [
    "Sin embargo se debe tener en cuenta la correcta utilziación del tipo de datos a usar en la ptunción `print`"
   ]
  },
  {
   "cell_type": "code",
   "execution_count": 22,
   "metadata": {},
   "outputs": [
    {
     "ename": "TypeError",
     "evalue": "must be str, not float",
     "output_type": "error",
     "traceback": [
      "\u001b[0;31m---------------------------------------------------------------------------\u001b[0m",
      "\u001b[0;31mTypeError\u001b[0m                                 Traceback (most recent call last)",
      "\u001b[0;32m<ipython-input-22-d88fa15fce3b>\u001b[0m in \u001b[0;36m<module>\u001b[0;34m\u001b[0m\n\u001b[0;32m----> 1\u001b[0;31m \u001b[0mprint\u001b[0m\u001b[0;34m(\u001b[0m\u001b[0;34m'El área calculada es: '\u001b[0m \u001b[0;34m+\u001b[0m \u001b[0marea\u001b[0m\u001b[0;34m)\u001b[0m\u001b[0;34m\u001b[0m\u001b[0;34m\u001b[0m\u001b[0m\n\u001b[0m",
      "\u001b[0;31mTypeError\u001b[0m: must be str, not float"
     ]
    }
   ],
   "source": [
    "print('El área calculada es: ' + area)"
   ]
  },
  {
   "cell_type": "code",
   "execution_count": 23,
   "metadata": {},
   "outputs": [
    {
     "name": "stdout",
     "output_type": "stream",
     "text": [
      "El área calculada es: 314.1592653589793\n"
     ]
    }
   ],
   "source": [
    "print('El área calculada es: ' + str(area))"
   ]
  },
  {
   "cell_type": "markdown",
   "metadata": {},
   "source": [
    "El operador `+` además de sumar números concatena cadenas de texto."
   ]
  },
  {
   "cell_type": "code",
   "execution_count": 24,
   "metadata": {},
   "outputs": [],
   "source": [
    "saludo2 = 'Bienvenido' + 'a' + 'clase'"
   ]
  },
  {
   "cell_type": "code",
   "execution_count": 25,
   "metadata": {},
   "outputs": [
    {
     "name": "stdout",
     "output_type": "stream",
     "text": [
      "Bienvenidoaclase\n"
     ]
    }
   ],
   "source": [
    "print(saludo2)"
   ]
  },
  {
   "cell_type": "code",
   "execution_count": 29,
   "metadata": {},
   "outputs": [],
   "source": [
    "saludo3 = 'Bienvenido' + ' a ' + 'clase'"
   ]
  },
  {
   "cell_type": "code",
   "execution_count": 30,
   "metadata": {},
   "outputs": [
    {
     "name": "stdout",
     "output_type": "stream",
     "text": [
      "Bienvenido a clase\n"
     ]
    }
   ],
   "source": [
    "print(saludo3)"
   ]
  },
  {
   "cell_type": "markdown",
   "metadata": {},
   "source": [
    "# Listas\n",
    "\n",
    "En el procesamiento es necesario algunas veces mantener *juntos* un grupo de elementos delmismo tipo. Python permite lo antertior usando un tipo de datos llamado **listas**."
   ]
  },
  {
   "cell_type": "code",
   "execution_count": 31,
   "metadata": {},
   "outputs": [],
   "source": [
    "nombres = ['Andrea', 'Tiago', 'Salo', 'Hela']"
   ]
  },
  {
   "cell_type": "code",
   "execution_count": 32,
   "metadata": {},
   "outputs": [
    {
     "name": "stdout",
     "output_type": "stream",
     "text": [
      "['Andrea', 'Tiago', 'Salo', 'Hela']\n"
     ]
    }
   ],
   "source": [
    "print(nombres)"
   ]
  },
  {
   "cell_type": "code",
   "execution_count": 33,
   "metadata": {},
   "outputs": [
    {
     "name": "stdout",
     "output_type": "stream",
     "text": [
      "Tiago\n"
     ]
    }
   ],
   "source": [
    "print(nombres[1])"
   ]
  },
  {
   "cell_type": "markdown",
   "metadata": {},
   "source": [
    "Python indexa los elementos de sus listas de elementos desde cero, así entonces en el ejemplo 0 es \"Andrea\"y 1 es \"Tiago\". Si se necesita accesar a los últimos elementos de la lista se pueden usar números negativos, por ejemplo, -1 indexa al último elemento de la lista y -2 al penúltimo."
   ]
  },
  {
   "cell_type": "code",
   "execution_count": 34,
   "metadata": {},
   "outputs": [
    {
     "name": "stdout",
     "output_type": "stream",
     "text": [
      "Hela Salo\n"
     ]
    }
   ],
   "source": [
    "print(nombres[-1], nombres[-2])"
   ]
  },
  {
   "cell_type": "markdown",
   "metadata": {},
   "source": [
    "A las listas se les puede agregar elementos adicionales"
   ]
  },
  {
   "cell_type": "code",
   "execution_count": 36,
   "metadata": {},
   "outputs": [],
   "source": [
    "nombres.append('Bruce')"
   ]
  },
  {
   "cell_type": "code",
   "execution_count": 37,
   "metadata": {},
   "outputs": [
    {
     "name": "stdout",
     "output_type": "stream",
     "text": [
      "['Andrea', 'Tiago', 'Salo', 'Hela', 'Bruce']\n"
     ]
    }
   ],
   "source": [
    "print(nombres)"
   ]
  },
  {
   "cell_type": "markdown",
   "metadata": {},
   "source": [
    "El comando `range` permite generar secuencias de números, `range(n)` inicia en 0 y genera una secuencia de valores hasta $n-1$. También puede definir un punto de partida (start) ode parada (stop)"
   ]
  },
  {
   "cell_type": "code",
   "execution_count": 38,
   "metadata": {},
   "outputs": [
    {
     "name": "stdout",
     "output_type": "stream",
     "text": [
      "[0, 1, 2, 3, 4, 5, 6, 7, 8, 9, 10, 11, 12, 13, 14]\n"
     ]
    }
   ],
   "source": [
    "numeros = list(range(15))\n",
    "print(numeros)"
   ]
  },
  {
   "cell_type": "code",
   "execution_count": 39,
   "metadata": {},
   "outputs": [
    {
     "data": {
      "text/plain": [
       "[3, 4, 5, 6, 7, 8, 9, 10, 11, 12, 13, 14, 15, 16, 17, 18, 19]"
      ]
     },
     "execution_count": 39,
     "metadata": {},
     "output_type": "execute_result"
    }
   ],
   "source": [
    "numeros2 = list(range(3,20))\n",
    "numeros2"
   ]
  },
  {
   "cell_type": "markdown",
   "metadata": {},
   "source": [
    "Igualmente puede definir un rango de valores que presente saltos cada cierto valor"
   ]
  },
  {
   "cell_type": "code",
   "execution_count": 40,
   "metadata": {},
   "outputs": [
    {
     "data": {
      "text/plain": [
       "[3, 5, 7, 9, 11, 13, 15, 17, 19]"
      ]
     },
     "execution_count": 40,
     "metadata": {},
     "output_type": "execute_result"
    }
   ],
   "source": [
    "numeros2 = list(range(3,20,2))\n",
    "numeros2"
   ]
  },
  {
   "cell_type": "markdown",
   "metadata": {},
   "source": [
    "Una lista puede contener elementos de diferente tipo, sin embargo, es deseable que tengan siempre el mismo tipo."
   ]
  },
  {
   "cell_type": "code",
   "execution_count": 42,
   "metadata": {},
   "outputs": [
    {
     "data": {
      "text/plain": [
       "[1, 'frebrero', 9.999, 1.4142135623730951]"
      ]
     },
     "execution_count": 42,
     "metadata": {},
     "output_type": "execute_result"
    }
   ],
   "source": [
    "varios = [1, 'frebrero', 9.999, math.sqrt(2)]\n",
    "varios"
   ]
  },
  {
   "cell_type": "markdown",
   "metadata": {},
   "source": [
    "Puede conocer cuál es el tamaño de una lista con la función `len`"
   ]
  },
  {
   "cell_type": "code",
   "execution_count": 43,
   "metadata": {},
   "outputs": [
    {
     "data": {
      "text/plain": [
       "4"
      ]
     },
     "execution_count": 43,
     "metadata": {},
     "output_type": "execute_result"
    }
   ],
   "source": [
    "len(varios)"
   ]
  },
  {
   "cell_type": "markdown",
   "metadata": {},
   "source": [
    "## Iteraciones"
   ]
  },
  {
   "cell_type": "code",
   "execution_count": 44,
   "metadata": {},
   "outputs": [
    {
     "name": "stdout",
     "output_type": "stream",
     "text": [
      "Andrea\n",
      "Tiago\n",
      "Salo\n",
      "Hela\n",
      "Bruce\n"
     ]
    }
   ],
   "source": [
    "for nombre in nombres:\n",
    "    print(nombre)"
   ]
  },
  {
   "cell_type": "code",
   "execution_count": 45,
   "metadata": {},
   "outputs": [],
   "source": [
    "dia = ['lunes', 'martes', 'miércoles', 'jueves', 'viernes', 'sábado', 'domingo']"
   ]
  },
  {
   "cell_type": "code",
   "execution_count": 46,
   "metadata": {},
   "outputs": [
    {
     "name": "stdout",
     "output_type": "stream",
     "text": [
      "Este es el lunes\n",
      "Este es el martes\n",
      "Este es el miércoles\n",
      "Este es el jueves\n",
      "Este es el viernes\n",
      "Este es el sábado\n",
      "Este es el domingo\n"
     ]
    }
   ],
   "source": [
    "for k in dia:\n",
    "    texto = 'Este es el ' + k\n",
    "    print(texto)"
   ]
  },
  {
   "cell_type": "markdown",
   "metadata": {},
   "source": [
    "también es posible iterar sobre un rango de valores:"
   ]
  },
  {
   "cell_type": "code",
   "execution_count": 47,
   "metadata": {},
   "outputs": [
    {
     "name": "stdout",
     "output_type": "stream",
     "text": [
      "La raiz cuadrada de  0  es:  0.0\n",
      "La raiz cuadrada de  1  es:  1.0\n",
      "La raiz cuadrada de  2  es:  1.4142135623730951\n",
      "La raiz cuadrada de  3  es:  1.7320508075688772\n",
      "La raiz cuadrada de  4  es:  2.0\n",
      "La raiz cuadrada de  5  es:  2.23606797749979\n",
      "La raiz cuadrada de  6  es:  2.449489742783178\n",
      "La raiz cuadrada de  7  es:  2.6457513110645907\n",
      "La raiz cuadrada de  8  es:  2.8284271247461903\n",
      "La raiz cuadrada de  9  es:  3.0\n",
      "La raiz cuadrada de  10  es:  3.1622776601683795\n",
      "La raiz cuadrada de  11  es:  3.3166247903554\n",
      "La raiz cuadrada de  12  es:  3.4641016151377544\n",
      "La raiz cuadrada de  13  es:  3.605551275463989\n",
      "La raiz cuadrada de  14  es:  3.7416573867739413\n",
      "La raiz cuadrada de  15  es:  3.872983346207417\n",
      "La raiz cuadrada de  16  es:  4.0\n",
      "La raiz cuadrada de  17  es:  4.123105625617661\n",
      "La raiz cuadrada de  18  es:  4.242640687119285\n",
      "La raiz cuadrada de  19  es:  4.358898943540674\n"
     ]
    }
   ],
   "source": [
    "for ii in range(20):\n",
    "    print('La raiz cuadrada de ', ii, ' es: ', math.sqrt(ii))"
   ]
  },
  {
   "cell_type": "code",
   "execution_count": 48,
   "metadata": {},
   "outputs": [
    {
     "name": "stdout",
     "output_type": "stream",
     "text": [
      "La raiz cuadrada de 0 es: 0.0\n",
      "La raiz cuadrada de 1 es: 1.0\n",
      "La raiz cuadrada de 2 es: 1.4142135623730951\n",
      "La raiz cuadrada de 3 es: 1.7320508075688772\n",
      "La raiz cuadrada de 4 es: 2.0\n",
      "La raiz cuadrada de 5 es: 2.23606797749979\n",
      "La raiz cuadrada de 6 es: 2.449489742783178\n",
      "La raiz cuadrada de 7 es: 2.6457513110645907\n",
      "La raiz cuadrada de 8 es: 2.8284271247461903\n",
      "La raiz cuadrada de 9 es: 3.0\n",
      "La raiz cuadrada de 10 es: 3.1622776601683795\n",
      "La raiz cuadrada de 11 es: 3.3166247903554\n",
      "La raiz cuadrada de 12 es: 3.4641016151377544\n",
      "La raiz cuadrada de 13 es: 3.605551275463989\n",
      "La raiz cuadrada de 14 es: 3.7416573867739413\n",
      "La raiz cuadrada de 15 es: 3.872983346207417\n",
      "La raiz cuadrada de 16 es: 4.0\n",
      "La raiz cuadrada de 17 es: 4.123105625617661\n",
      "La raiz cuadrada de 18 es: 4.242640687119285\n",
      "La raiz cuadrada de 19 es: 4.358898943540674\n"
     ]
    }
   ],
   "source": [
    "for ii in range(20):\n",
    "    print('La raiz cuadrada de %s es: %s' % (ii, math.sqrt(ii)))"
   ]
  },
  {
   "cell_type": "markdown",
   "metadata": {},
   "source": [
    "## Slicing\n",
    "\n",
    "Las listas y cadenas pueden tratarse como secuencias, por lo cual es posible iterar sobre ellas:"
   ]
  },
  {
   "cell_type": "code",
   "execution_count": 49,
   "metadata": {},
   "outputs": [
    {
     "name": "stdout",
     "output_type": "stream",
     "text": [
      "S\n",
      "a\n",
      "n\n",
      "t\n",
      "o\n",
      " \n",
      "T\n",
      "o\n",
      "m\n",
      "á\n",
      "s\n"
     ]
    }
   ],
   "source": [
    "for letra in \"Santo Tomás\":\n",
    "    print(letra)"
   ]
  },
  {
   "cell_type": "code",
   "execution_count": 50,
   "metadata": {},
   "outputs": [
    {
     "data": {
      "text/plain": [
       "'lunes'"
      ]
     },
     "execution_count": 50,
     "metadata": {},
     "output_type": "execute_result"
    }
   ],
   "source": [
    "dia[0]"
   ]
  },
  {
   "cell_type": "code",
   "execution_count": 51,
   "metadata": {},
   "outputs": [
    {
     "data": {
      "text/plain": [
       "['lunes', 'martes']"
      ]
     },
     "execution_count": 51,
     "metadata": {},
     "output_type": "execute_result"
    }
   ],
   "source": [
    "dia[0:2]"
   ]
  },
  {
   "cell_type": "code",
   "execution_count": 52,
   "metadata": {},
   "outputs": [
    {
     "data": {
      "text/plain": [
       "['lunes', 'martes']"
      ]
     },
     "execution_count": 52,
     "metadata": {},
     "output_type": "execute_result"
    }
   ],
   "source": [
    "dia[:2]"
   ]
  },
  {
   "cell_type": "code",
   "execution_count": 55,
   "metadata": {},
   "outputs": [
    {
     "data": {
      "text/plain": [
       "['miércoles', 'jueves', 'viernes', 'sábado', 'domingo']"
      ]
     },
     "execution_count": 55,
     "metadata": {},
     "output_type": "execute_result"
    }
   ],
   "source": [
    "dia[2:]"
   ]
  },
  {
   "cell_type": "code",
   "execution_count": 56,
   "metadata": {},
   "outputs": [
    {
     "data": {
      "text/plain": [
       "['viernes', 'sábado', 'domingo']"
      ]
     },
     "execution_count": 56,
     "metadata": {},
     "output_type": "execute_result"
    }
   ],
   "source": [
    "dia[-3:]"
   ]
  },
  {
   "cell_type": "code",
   "execution_count": 57,
   "metadata": {},
   "outputs": [
    {
     "data": {
      "text/plain": [
       "['miércoles', 'jueves']"
      ]
     },
     "execution_count": 57,
     "metadata": {},
     "output_type": "execute_result"
    }
   ],
   "source": [
    "dia[2:4]"
   ]
  },
  {
   "cell_type": "code",
   "execution_count": 59,
   "metadata": {},
   "outputs": [
    {
     "data": {
      "text/plain": [
       "['lunes', 'martes', 'miércoles', 'jueves', 'viernes']"
      ]
     },
     "execution_count": 59,
     "metadata": {},
     "output_type": "execute_result"
    }
   ],
   "source": [
    "habil = dia[:-2]\n",
    "habil"
   ]
  },
  {
   "cell_type": "code",
   "execution_count": 64,
   "metadata": {},
   "outputs": [
    {
     "data": {
      "text/plain": [
       "[2, 6, 10, 14, 18, 22, 26, 30, 34, 38, 42, 46, 50, 54, 58]"
      ]
     },
     "execution_count": 64,
     "metadata": {},
     "output_type": "execute_result"
    }
   ],
   "source": [
    "lista_num = list(range(0, 60))\n",
    "salto = lista_num[2::4]\n",
    "salto"
   ]
  },
  {
   "cell_type": "markdown",
   "metadata": {},
   "source": [
    "## Booleanos y Condicionales\n",
    "\n",
    "Indudablemente, se requiere algún concepto de manejo de flujos condicionales en la programación para controlar el comportamiento de las decisiones, para hacer que un programa reaccione de manera diferente a diferentes situaciones. Si esta lloviendo, sacar sombrilla, pero si es soleado, no sacar sombrilla. En Python se usa una combinación de variables `booleanas`, que evalúan como `True` o `False`, y las declaraciones `if` cuya acción se basa en valores booleanos."
   ]
  },
  {
   "cell_type": "code",
   "execution_count": 68,
   "metadata": {},
   "outputs": [
    {
     "name": "stdout",
     "output_type": "stream",
     "text": [
      "Quedarse en casa\n"
     ]
    }
   ],
   "source": [
    "clima = 'llueve'\n",
    "if clima == \"llueve\":\n",
    "    print(\"Quedarse en casa\")\n",
    "else:\n",
    "    print(\"salir al parque\")"
   ]
  },
  {
   "cell_type": "code",
   "execution_count": 69,
   "metadata": {},
   "outputs": [
    {
     "data": {
      "text/plain": [
       "True"
      ]
     },
     "execution_count": 69,
     "metadata": {},
     "output_type": "execute_result"
    }
   ],
   "source": [
    "clima == \"llueve\""
   ]
  },
  {
   "cell_type": "markdown",
   "metadata": {},
   "source": [
    "La evaluación de la condicióncomose observa, retorna un valor booleano, `True`. El operador `==` realiza la prueba comparativa de igualdad. Si los dos elementos son iguales, devuelve `True`; de lo contrario retorna `False`.\n",
    "A la instrucción `if` que contiene la prueba de condición la sigue un bloque de código (dos puntos seguidos de un bloque de código identado). Si el booleano es `True`, ejecuta el código en ese bloque,cuando es `False` se ejecuta el bloque de código que va seguido de la instrucción `else`.\n",
    "\n",
    "* Probar otros operadores de comparación: ==, >=, <=, !=, <, >"
   ]
  },
  {
   "cell_type": "code",
   "execution_count": 70,
   "metadata": {},
   "outputs": [
    {
     "data": {
      "text/plain": [
       "False"
      ]
     },
     "execution_count": 70,
     "metadata": {},
     "output_type": "execute_result"
    }
   ],
   "source": [
    "1 is 1.0"
   ]
  },
  {
   "cell_type": "code",
   "execution_count": 80,
   "metadata": {},
   "outputs": [
    {
     "data": {
      "text/plain": [
       "True"
      ]
     },
     "execution_count": 80,
     "metadata": {},
     "output_type": "execute_result"
    }
   ],
   "source": [
    "bool(1)"
   ]
  },
  {
   "cell_type": "code",
   "execution_count": 81,
   "metadata": {},
   "outputs": [
    {
     "data": {
      "text/plain": [
       "False"
      ]
     },
     "execution_count": 81,
     "metadata": {},
     "output_type": "execute_result"
    }
   ],
   "source": [
    "bool(0)"
   ]
  },
  {
   "cell_type": "markdown",
   "metadata": {},
   "source": [
    "La sentencia `elif` permite agregar mas instrucciones al proceso"
   ]
  },
  {
   "cell_type": "code",
   "execution_count": 82,
   "metadata": {},
   "outputs": [
    {
     "name": "stdout",
     "output_type": "stream",
     "text": [
      "Llevar abrigo\n"
     ]
    }
   ],
   "source": [
    "clima = 'nublado'\n",
    "if clima == \"llueve\":\n",
    "    print(\"Llevar abrigo y paraguas\")\n",
    "elif clima == \"nublado\":\n",
    "    print(\"Llevar abrigo\")\n",
    "else:\n",
    "    print(\"llevar ropa fresca\")"
   ]
  },
  {
   "cell_type": "markdown",
   "metadata": {},
   "source": [
    "Se pueden usar los flujos condicionales en iteraciones:"
   ]
  },
  {
   "cell_type": "code",
   "execution_count": 83,
   "metadata": {},
   "outputs": [
    {
     "name": "stdout",
     "output_type": "stream",
     "text": [
      "El clima es llueve, entonces llevar abrigo y paraguas\n",
      "El clima es soleado, entonces llevar llevar ropa fresca\n",
      "El clima es nublado, entonces llevar abrigo\n"
     ]
    }
   ],
   "source": [
    "clima = ['llueve', 'soleado', 'nublado']\n",
    "for kk in clima:\n",
    "    if kk == \"llueve\":\n",
    "        print(\"El clima es %s, entonces llevar abrigo y paraguas\" % (kk))\n",
    "    elif kk == \"nublado\":\n",
    "        print(\"El clima es %s, entonces llevar abrigo\" % (kk))\n",
    "    else:\n",
    "        print(\"El clima es %s, entonces llevar llevar ropa fresca\" % (kk))"
   ]
  },
  {
   "cell_type": "markdown",
   "metadata": {},
   "source": [
    "## Ejemplo: Sucesión de Fibonacci\n",
    "\n",
    "La [Sucesión de Fibonacci](https://es.wikipedia.org/wiki/Sucesi%C3%B3n_de_Fibonacci) es una sucesión infinita de números naturales que inicia conlos números 0 y 1 respectivamente y a partir de estos el siguiente corresponde a la suma de los dos números anteriores."
   ]
  },
  {
   "cell_type": "code",
   "execution_count": 89,
   "metadata": {},
   "outputs": [
    {
     "data": {
      "text/plain": [
       "[0,\n",
       " 1,\n",
       " 1,\n",
       " 2,\n",
       " 3,\n",
       " 5,\n",
       " 8,\n",
       " 13,\n",
       " 21,\n",
       " 34,\n",
       " 55,\n",
       " 89,\n",
       " 144,\n",
       " 233,\n",
       " 377,\n",
       " 610,\n",
       " 987,\n",
       " 1597,\n",
       " 2584,\n",
       " 4181]"
      ]
     },
     "execution_count": 89,
     "metadata": {},
     "output_type": "execute_result"
    }
   ],
   "source": [
    "n = 20\n",
    "serie_f = [0,1]\n",
    "for ii in range(2,n):\n",
    "    serie_f.append(serie_f[ii-2] + serie_f[ii-1])\n",
    "serie_f"
   ]
  },
  {
   "cell_type": "markdown",
   "metadata": {},
   "source": [
    "## Funciones\n",
    "\n",
    "Es posible que se desee usar el codigo de la Sucesión de Fibonacci con diferentes rango. Una opción sería cortar y pegar el código en otra celda, actualizando el valor de n, pero es más fácil y más útil hacer una función del código. Para ello, se hace uso de la sentencia `def`:"
   ]
  },
  {
   "cell_type": "code",
   "execution_count": 98,
   "metadata": {},
   "outputs": [],
   "source": [
    "def fibonacci(n):\n",
    "    ## Inicializar los dos primeros números de la serie\n",
    "    serie_f = [0,1]\n",
    "    ## Sumar iterativamente los dos números previos para calcular el nuevo número\n",
    "    for ii in range(2,n):\n",
    "        serie_f.append(serie_f[ii-2] + serie_f[ii-1])\n",
    "    return serie_f"
   ]
  },
  {
   "cell_type": "code",
   "execution_count": 99,
   "metadata": {},
   "outputs": [
    {
     "data": {
      "text/plain": [
       "[0,\n",
       " 1,\n",
       " 1,\n",
       " 2,\n",
       " 3,\n",
       " 5,\n",
       " 8,\n",
       " 13,\n",
       " 21,\n",
       " 34,\n",
       " 55,\n",
       " 89,\n",
       " 144,\n",
       " 233,\n",
       " 377,\n",
       " 610,\n",
       " 987,\n",
       " 1597,\n",
       " 2584,\n",
       " 4181]"
      ]
     },
     "execution_count": 99,
     "metadata": {},
     "output_type": "execute_result"
    }
   ],
   "source": [
    "fibonacci(20)"
   ]
  },
  {
   "cell_type": "code",
   "execution_count": 100,
   "metadata": {},
   "outputs": [
    {
     "data": {
      "text/plain": [
       "[0, 1, 1, 2, 3, 5, 8, 13, 21, 34, 55, 89]"
      ]
     },
     "execution_count": 100,
     "metadata": {},
     "output_type": "execute_result"
    }
   ],
   "source": [
    "fibonacci(12)"
   ]
  },
  {
   "cell_type": "markdown",
   "metadata": {},
   "source": [
    "## Tuplas\n",
    "\n",
    "Una tupla es un objeto que contiene una secuencia de elementos, algo así como una lista o una cadena. Se construye agrupando una secuencia de objetos con comas, ya sea sin corchetes o con paréntesis:"
   ]
  },
  {
   "cell_type": "code",
   "execution_count": 104,
   "metadata": {},
   "outputs": [
    {
     "data": {
      "text/plain": [
       "(12, 24, 'tupla', 9.5, 1.4142135623730951)"
      ]
     },
     "execution_count": 104,
     "metadata": {},
     "output_type": "execute_result"
    }
   ],
   "source": [
    "t = (12,24,'tupla',9.5, math.sqrt(2))\n",
    "t"
   ]
  },
  {
   "cell_type": "code",
   "execution_count": 105,
   "metadata": {},
   "outputs": [
    {
     "data": {
      "text/plain": [
       "24"
      ]
     },
     "execution_count": 105,
     "metadata": {},
     "output_type": "execute_result"
    }
   ],
   "source": [
    "t[1]"
   ]
  },
  {
   "cell_type": "markdown",
   "metadata": {},
   "source": [
    "Las tuplas son objetos *inmutables*, por lo que no pueden ser cambiadas."
   ]
  },
  {
   "cell_type": "code",
   "execution_count": 106,
   "metadata": {},
   "outputs": [
    {
     "ename": "AttributeError",
     "evalue": "'tuple' object has no attribute 'append'",
     "output_type": "error",
     "traceback": [
      "\u001b[0;31m---------------------------------------------------------------------------\u001b[0m",
      "\u001b[0;31mAttributeError\u001b[0m                            Traceback (most recent call last)",
      "\u001b[0;32m<ipython-input-106-91f1b43b8697>\u001b[0m in \u001b[0;36m<module>\u001b[0;34m\u001b[0m\n\u001b[0;32m----> 1\u001b[0;31m \u001b[0mt\u001b[0m\u001b[0;34m.\u001b[0m\u001b[0mappend\u001b[0m\u001b[0;34m(\u001b[0m\u001b[0;36m7\u001b[0m\u001b[0;34m)\u001b[0m\u001b[0;34m\u001b[0m\u001b[0;34m\u001b[0m\u001b[0m\n\u001b[0m",
      "\u001b[0;31mAttributeError\u001b[0m: 'tuple' object has no attribute 'append'"
     ]
    }
   ],
   "source": [
    "t.append(7)"
   ]
  },
  {
   "cell_type": "code",
   "execution_count": 108,
   "metadata": {},
   "outputs": [
    {
     "ename": "TypeError",
     "evalue": "'tuple' object does not support item assignment",
     "output_type": "error",
     "traceback": [
      "\u001b[0;31m---------------------------------------------------------------------------\u001b[0m",
      "\u001b[0;31mTypeError\u001b[0m                                 Traceback (most recent call last)",
      "\u001b[0;32m<ipython-input-108-ffae23b6ab5e>\u001b[0m in \u001b[0;36m<module>\u001b[0;34m\u001b[0m\n\u001b[0;32m----> 1\u001b[0;31m \u001b[0mt\u001b[0m\u001b[0;34m[\u001b[0m\u001b[0;36m0\u001b[0m\u001b[0;34m]\u001b[0m \u001b[0;34m=\u001b[0m \u001b[0;36m43\u001b[0m\u001b[0;34m\u001b[0m\u001b[0;34m\u001b[0m\u001b[0m\n\u001b[0m",
      "\u001b[0;31mTypeError\u001b[0m: 'tuple' object does not support item assignment"
     ]
    }
   ],
   "source": [
    "t[0] = 43"
   ]
  },
  {
   "cell_type": "markdown",
   "metadata": {},
   "source": [
    "## Diccionarios\n",
    "\n",
    "Los diccionarios son objetos que permiten \"mapear\" o asociar características de los objetos. El índice en un diccionario se llama `key` y la entrada correspondiente del diccionario es el valor característico. Un diccionario puede usar casi cualquier cosa como `key`, mientras que las listas se forman con barras cuadradas [], los diccionarios usan corchetes {}:\n"
   ]
  },
  {
   "cell_type": "code",
   "execution_count": 111,
   "metadata": {},
   "outputs": [
    {
     "name": "stdout",
     "output_type": "stream",
     "text": [
      "Minería tiene un cupo de 18 alumnos\n"
     ]
    }
   ],
   "source": [
    "cursos = {\"Muestreo\": 25, \"Estadistica 1\": 12, \"Minería\": 18}\n",
    "print(\"Minería tiene un cupo de %s alumnos\" % (cursos[\"Minería\"]))"
   ]
  },
  {
   "cell_type": "markdown",
   "metadata": {},
   "source": [
    "Hay una función que también permite crear diccionarios:"
   ]
  },
  {
   "cell_type": "code",
   "execution_count": 113,
   "metadata": {},
   "outputs": [
    {
     "name": "stdout",
     "output_type": "stream",
     "text": [
      "Muestreo tiene un cupo de 25 alumnos\n"
     ]
    }
   ],
   "source": [
    "cursos2 = dict(Muestreo=25, Estadistica_1=12, Minería=18)\n",
    "print(\"Muestreo tiene un cupo de %s alumnos\" % (cursos[\"Muestreo\"]))"
   ]
  }
 ],
 "metadata": {
  "kernelspec": {
   "display_name": "Python 3",
   "language": "python",
   "name": "python3"
  },
  "language_info": {
   "codemirror_mode": {
    "name": "ipython",
    "version": 3
   },
   "file_extension": ".py",
   "mimetype": "text/x-python",
   "name": "python",
   "nbconvert_exporter": "python",
   "pygments_lexer": "ipython3",
   "version": "3.6.9"
  }
 },
 "nbformat": 4,
 "nbformat_minor": 4
}
