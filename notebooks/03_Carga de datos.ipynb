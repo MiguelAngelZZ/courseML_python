{
 "cells": [
  {
   "cell_type": "markdown",
   "metadata": {},
   "source": [
    "# D1_1. Carga de Datos\n",
    "\n",
    "## Carga de datos a través de la función read_csv"
   ]
  },
  {
   "cell_type": "code",
   "execution_count": 1,
   "metadata": {},
   "outputs": [],
   "source": [
    "import pandas as pd\n",
    "import os"
   ]
  },
  {
   "cell_type": "code",
   "execution_count": 2,
   "metadata": {},
   "outputs": [
    {
     "data": {
      "text/html": [
       "<div>\n",
       "<style scoped>\n",
       "    .dataframe tbody tr th:only-of-type {\n",
       "        vertical-align: middle;\n",
       "    }\n",
       "\n",
       "    .dataframe tbody tr th {\n",
       "        vertical-align: top;\n",
       "    }\n",
       "\n",
       "    .dataframe thead th {\n",
       "        text-align: right;\n",
       "    }\n",
       "</style>\n",
       "<table border=\"1\" class=\"dataframe\">\n",
       "  <thead>\n",
       "    <tr style=\"text-align: right;\">\n",
       "      <th></th>\n",
       "      <th>objectid</th>\n",
       "      <th>fisiologia</th>\n",
       "      <th>altura</th>\n",
       "      <th>diametro</th>\n",
       "      <th>pap</th>\n",
       "      <th>perimetro</th>\n",
       "      <th>altura_fus</th>\n",
       "    </tr>\n",
       "  </thead>\n",
       "  <tbody>\n",
       "    <tr>\n",
       "      <th>0</th>\n",
       "      <td>58566</td>\n",
       "      <td>Perennifolio</td>\n",
       "      <td>8.971847</td>\n",
       "      <td>2.00</td>\n",
       "      <td>0.40</td>\n",
       "      <td>0.45</td>\n",
       "      <td>2.523279</td>\n",
       "    </tr>\n",
       "    <tr>\n",
       "      <th>1</th>\n",
       "      <td>144860</td>\n",
       "      <td>Semicaducifolio</td>\n",
       "      <td>7.510006</td>\n",
       "      <td>4.00</td>\n",
       "      <td>0.29</td>\n",
       "      <td>0.35</td>\n",
       "      <td>3.081373</td>\n",
       "    </tr>\n",
       "    <tr>\n",
       "      <th>2</th>\n",
       "      <td>146014</td>\n",
       "      <td>Semicaducifolio</td>\n",
       "      <td>15.186397</td>\n",
       "      <td>7.57</td>\n",
       "      <td>1.63</td>\n",
       "      <td>2.14</td>\n",
       "      <td>5.509542</td>\n",
       "    </tr>\n",
       "    <tr>\n",
       "      <th>3</th>\n",
       "      <td>151897</td>\n",
       "      <td>Semicaducifolio</td>\n",
       "      <td>11.940282</td>\n",
       "      <td>7.00</td>\n",
       "      <td>0.70</td>\n",
       "      <td>1.74</td>\n",
       "      <td>4.560590</td>\n",
       "    </tr>\n",
       "    <tr>\n",
       "      <th>4</th>\n",
       "      <td>15787</td>\n",
       "      <td>Caducifolio</td>\n",
       "      <td>1.600000</td>\n",
       "      <td>0.80</td>\n",
       "      <td>0.00</td>\n",
       "      <td>0.23</td>\n",
       "      <td>0.550000</td>\n",
       "    </tr>\n",
       "  </tbody>\n",
       "</table>\n",
       "</div>"
      ],
      "text/plain": [
       "   objectid       fisiologia     altura  diametro   pap  perimetro  altura_fus\n",
       "0     58566     Perennifolio   8.971847      2.00  0.40       0.45    2.523279\n",
       "1    144860  Semicaducifolio   7.510006      4.00  0.29       0.35    3.081373\n",
       "2    146014  Semicaducifolio  15.186397      7.57  1.63       2.14    5.509542\n",
       "3    151897  Semicaducifolio  11.940282      7.00  0.70       1.74    4.560590\n",
       "4     15787      Caducifolio   1.600000      0.80  0.00       0.23    0.550000"
      ]
     },
     "execution_count": 2,
     "metadata": {},
     "output_type": "execute_result"
    }
   ],
   "source": [
    "# load data\n",
    "path = '/home/rho/gdrive/Personales/Robert/Santoto/20211/Maestria_DM_ML/01_Semana1/01B_clase/'\n",
    "fullpath = os.path.join(path, 'base_arboles.csv')\n",
    "arbol = pd.read_csv(fullpath, sep = ';')\n",
    "arbol.head()"
   ]
  },
  {
   "cell_type": "markdown",
   "metadata": {},
   "source": [
    "Otra forma de cargas los datos"
   ]
  },
  {
   "cell_type": "code",
   "execution_count": 3,
   "metadata": {},
   "outputs": [
    {
     "data": {
      "text/html": [
       "<div>\n",
       "<style scoped>\n",
       "    .dataframe tbody tr th:only-of-type {\n",
       "        vertical-align: middle;\n",
       "    }\n",
       "\n",
       "    .dataframe tbody tr th {\n",
       "        vertical-align: top;\n",
       "    }\n",
       "\n",
       "    .dataframe thead th {\n",
       "        text-align: right;\n",
       "    }\n",
       "</style>\n",
       "<table border=\"1\" class=\"dataframe\">\n",
       "  <thead>\n",
       "    <tr style=\"text-align: right;\">\n",
       "      <th></th>\n",
       "      <th>objectid</th>\n",
       "      <th>fisiologia</th>\n",
       "      <th>altura</th>\n",
       "      <th>diametro</th>\n",
       "      <th>pap</th>\n",
       "      <th>perimetro</th>\n",
       "      <th>altura_fus</th>\n",
       "    </tr>\n",
       "  </thead>\n",
       "  <tbody>\n",
       "    <tr>\n",
       "      <th>0</th>\n",
       "      <td>58566</td>\n",
       "      <td>Perennifolio</td>\n",
       "      <td>8.971847</td>\n",
       "      <td>2.00</td>\n",
       "      <td>0.40</td>\n",
       "      <td>0.45</td>\n",
       "      <td>2.523279</td>\n",
       "    </tr>\n",
       "    <tr>\n",
       "      <th>1</th>\n",
       "      <td>144860</td>\n",
       "      <td>Semicaducifolio</td>\n",
       "      <td>7.510006</td>\n",
       "      <td>4.00</td>\n",
       "      <td>0.29</td>\n",
       "      <td>0.35</td>\n",
       "      <td>3.081373</td>\n",
       "    </tr>\n",
       "    <tr>\n",
       "      <th>2</th>\n",
       "      <td>146014</td>\n",
       "      <td>Semicaducifolio</td>\n",
       "      <td>15.186397</td>\n",
       "      <td>7.57</td>\n",
       "      <td>1.63</td>\n",
       "      <td>2.14</td>\n",
       "      <td>5.509542</td>\n",
       "    </tr>\n",
       "    <tr>\n",
       "      <th>3</th>\n",
       "      <td>151897</td>\n",
       "      <td>Semicaducifolio</td>\n",
       "      <td>11.940282</td>\n",
       "      <td>7.00</td>\n",
       "      <td>0.70</td>\n",
       "      <td>1.74</td>\n",
       "      <td>4.560590</td>\n",
       "    </tr>\n",
       "    <tr>\n",
       "      <th>4</th>\n",
       "      <td>15787</td>\n",
       "      <td>Caducifolio</td>\n",
       "      <td>1.600000</td>\n",
       "      <td>0.80</td>\n",
       "      <td>0.00</td>\n",
       "      <td>0.23</td>\n",
       "      <td>0.550000</td>\n",
       "    </tr>\n",
       "  </tbody>\n",
       "</table>\n",
       "</div>"
      ],
      "text/plain": [
       "   objectid       fisiologia     altura  diametro   pap  perimetro  altura_fus\n",
       "0     58566     Perennifolio   8.971847      2.00  0.40       0.45    2.523279\n",
       "1    144860  Semicaducifolio   7.510006      4.00  0.29       0.35    3.081373\n",
       "2    146014  Semicaducifolio  15.186397      7.57  1.63       2.14    5.509542\n",
       "3    151897  Semicaducifolio  11.940282      7.00  0.70       1.74    4.560590\n",
       "4     15787      Caducifolio   1.600000      0.80  0.00       0.23    0.550000"
      ]
     },
     "execution_count": 3,
     "metadata": {},
     "output_type": "execute_result"
    }
   ],
   "source": [
    "# load data\n",
    "arbol = pd.read_csv(path + 'base_arboles.csv', sep = ';')\n",
    "arbol.head()"
   ]
  },
  {
   "cell_type": "markdown",
   "metadata": {},
   "source": [
    "Nombres de las columnas de la base de datos"
   ]
  },
  {
   "cell_type": "code",
   "execution_count": 6,
   "metadata": {},
   "outputs": [
    {
     "data": {
      "text/plain": [
       "array(['objectid', 'fisiologia', 'altura', 'diametro', 'pap', 'perimetro',\n",
       "       'altura_fus'], dtype=object)"
      ]
     },
     "execution_count": 6,
     "metadata": {},
     "output_type": "execute_result"
    }
   ],
   "source": [
    "arbol.columns.values"
   ]
  },
  {
   "cell_type": "code",
   "execution_count": 7,
   "metadata": {},
   "outputs": [
    {
     "name": "stdout",
     "output_type": "stream",
     "text": [
      "<class 'pandas.core.frame.DataFrame'>\n",
      "RangeIndex: 998 entries, 0 to 997\n",
      "Data columns (total 7 columns):\n",
      " #   Column      Non-Null Count  Dtype  \n",
      "---  ------      --------------  -----  \n",
      " 0   objectid    998 non-null    int64  \n",
      " 1   fisiologia  998 non-null    object \n",
      " 2   altura      997 non-null    float64\n",
      " 3   diametro    989 non-null    float64\n",
      " 4   pap         998 non-null    float64\n",
      " 5   perimetro   998 non-null    float64\n",
      " 6   altura_fus  998 non-null    float64\n",
      "dtypes: float64(5), int64(1), object(1)\n",
      "memory usage: 54.7+ KB\n"
     ]
    }
   ],
   "source": [
    "arbol.info()"
   ]
  },
  {
   "cell_type": "code",
   "execution_count": 8,
   "metadata": {},
   "outputs": [
    {
     "data": {
      "text/plain": [
       "Caducifolio        397\n",
       "Perennifolio       375\n",
       "Semicaducifolio    226\n",
       "Name: fisiologia, dtype: int64"
      ]
     },
     "execution_count": 8,
     "metadata": {},
     "output_type": "execute_result"
    }
   ],
   "source": [
    "arbol.fisiologia.value_counts()"
   ]
  },
  {
   "cell_type": "code",
   "execution_count": 10,
   "metadata": {},
   "outputs": [
    {
     "data": {
      "text/plain": [
       "count    997.000000\n",
       "mean       5.456674\n",
       "std        4.783082\n",
       "min        0.370000\n",
       "25%        2.161189\n",
       "50%        3.604811\n",
       "75%        7.165182\n",
       "max       28.415010\n",
       "Name: altura, dtype: float64"
      ]
     },
     "execution_count": 10,
     "metadata": {},
     "output_type": "execute_result"
    }
   ],
   "source": [
    "arbol.altura.describe()"
   ]
  },
  {
   "cell_type": "code",
   "execution_count": 13,
   "metadata": {},
   "outputs": [
    {
     "data": {
      "text/plain": [
       "objectid      0\n",
       "fisiologia    0\n",
       "altura        1\n",
       "diametro      9\n",
       "pap           0\n",
       "perimetro     0\n",
       "altura_fus    0\n",
       "dtype: int64"
      ]
     },
     "execution_count": 13,
     "metadata": {},
     "output_type": "execute_result"
    }
   ],
   "source": [
    "arbol.isnull().sum()"
   ]
  },
  {
   "cell_type": "markdown",
   "metadata": {},
   "source": [
    "Eliminar valores perdidos"
   ]
  },
  {
   "cell_type": "code",
   "execution_count": 14,
   "metadata": {},
   "outputs": [],
   "source": [
    "arbol = arbol.dropna()"
   ]
  },
  {
   "cell_type": "code",
   "execution_count": 15,
   "metadata": {},
   "outputs": [
    {
     "data": {
      "text/plain": [
       "objectid      0\n",
       "fisiologia    0\n",
       "altura        0\n",
       "diametro      0\n",
       "pap           0\n",
       "perimetro     0\n",
       "altura_fus    0\n",
       "dtype: int64"
      ]
     },
     "execution_count": 15,
     "metadata": {},
     "output_type": "execute_result"
    }
   ],
   "source": [
    "arbol.isnull().sum()"
   ]
  },
  {
   "cell_type": "markdown",
   "metadata": {},
   "source": [
    "# Cargar datos leyendo línea a línea"
   ]
  },
  {
   "cell_type": "code",
   "execution_count": 38,
   "metadata": {},
   "outputs": [],
   "source": [
    "arbol2 = open(path + 'base_arboles.csv','r')"
   ]
  },
  {
   "cell_type": "code",
   "execution_count": 39,
   "metadata": {},
   "outputs": [],
   "source": [
    "columnas = arbol2.readline().strip().split(\";\")\n",
    "n_cols = len(columnas)"
   ]
  },
  {
   "cell_type": "code",
   "execution_count": 40,
   "metadata": {},
   "outputs": [],
   "source": [
    "conta = 1\n",
    "dicc = {}\n",
    "for jj in columnas:\n",
    "    dicc[jj] = []"
   ]
  },
  {
   "cell_type": "code",
   "execution_count": 34,
   "metadata": {},
   "outputs": [
    {
     "name": "stdout",
     "output_type": "stream",
     "text": [
      "La base tiene 998 filas y 7 columnas\n"
     ]
    }
   ],
   "source": [
    "for fila in arbol2:\n",
    "    values = fila.strip().split(\";\")\n",
    "    for kk in range(len(columnas)):\n",
    "        dicc[columnas[kk]].append(values[kk])\n",
    "    conta += 1\n",
    "\n",
    "print(\"La base tiene %s filas y %s columnas\"%(conta-1, n_cols))"
   ]
  },
  {
   "cell_type": "code",
   "execution_count": 33,
   "metadata": {},
   "outputs": [
    {
     "data": {
      "text/html": [
       "<div>\n",
       "<style scoped>\n",
       "    .dataframe tbody tr th:only-of-type {\n",
       "        vertical-align: middle;\n",
       "    }\n",
       "\n",
       "    .dataframe tbody tr th {\n",
       "        vertical-align: top;\n",
       "    }\n",
       "\n",
       "    .dataframe thead th {\n",
       "        text-align: right;\n",
       "    }\n",
       "</style>\n",
       "<table border=\"1\" class=\"dataframe\">\n",
       "  <thead>\n",
       "    <tr style=\"text-align: right;\">\n",
       "      <th></th>\n",
       "      <th>objectid</th>\n",
       "      <th>fisiologia</th>\n",
       "      <th>altura</th>\n",
       "      <th>diametro</th>\n",
       "      <th>pap</th>\n",
       "      <th>perimetro</th>\n",
       "      <th>altura_fus</th>\n",
       "    </tr>\n",
       "  </thead>\n",
       "  <tbody>\n",
       "    <tr>\n",
       "      <th>0</th>\n",
       "      <td>58566</td>\n",
       "      <td>Perennifolio</td>\n",
       "      <td>8.97184658050537</td>\n",
       "      <td>2</td>\n",
       "      <td>0.400000005960464</td>\n",
       "      <td>0.449999988079071</td>\n",
       "      <td>2.52327871322631</td>\n",
       "    </tr>\n",
       "    <tr>\n",
       "      <th>1</th>\n",
       "      <td>144860</td>\n",
       "      <td>Semicaducifolio</td>\n",
       "      <td>7.51000642776489</td>\n",
       "      <td>4</td>\n",
       "      <td>0.28999999165535</td>\n",
       "      <td>0.349999994039536</td>\n",
       "      <td>3.08137273788452</td>\n",
       "    </tr>\n",
       "    <tr>\n",
       "      <th>2</th>\n",
       "      <td>146014</td>\n",
       "      <td>Semicaducifolio</td>\n",
       "      <td>15.1863965988159</td>\n",
       "      <td>7.57000017166137</td>\n",
       "      <td>1.62999999523162</td>\n",
       "      <td>2.14000010490417</td>\n",
       "      <td>5.50954151153564</td>\n",
       "    </tr>\n",
       "    <tr>\n",
       "      <th>3</th>\n",
       "      <td>151897</td>\n",
       "      <td>Semicaducifolio</td>\n",
       "      <td>11.9402818679809</td>\n",
       "      <td>7</td>\n",
       "      <td>0.699999988079071</td>\n",
       "      <td>1.74000000953674</td>\n",
       "      <td>4.56058979034423</td>\n",
       "    </tr>\n",
       "    <tr>\n",
       "      <th>4</th>\n",
       "      <td>15787</td>\n",
       "      <td>Caducifolio</td>\n",
       "      <td>1.60000002384185</td>\n",
       "      <td>0.800000011920928</td>\n",
       "      <td>0</td>\n",
       "      <td>0.230000004172325</td>\n",
       "      <td>0.550000011920928</td>\n",
       "    </tr>\n",
       "  </tbody>\n",
       "</table>\n",
       "</div>"
      ],
      "text/plain": [
       "  objectid       fisiologia            altura           diametro  \\\n",
       "0    58566     Perennifolio  8.97184658050537                  2   \n",
       "1   144860  Semicaducifolio  7.51000642776489                  4   \n",
       "2   146014  Semicaducifolio  15.1863965988159   7.57000017166137   \n",
       "3   151897  Semicaducifolio  11.9402818679809                  7   \n",
       "4    15787      Caducifolio  1.60000002384185  0.800000011920928   \n",
       "\n",
       "                 pap          perimetro         altura_fus  \n",
       "0  0.400000005960464  0.449999988079071   2.52327871322631  \n",
       "1   0.28999999165535  0.349999994039536   3.08137273788452  \n",
       "2   1.62999999523162   2.14000010490417   5.50954151153564  \n",
       "3  0.699999988079071   1.74000000953674   4.56058979034423  \n",
       "4                  0  0.230000004172325  0.550000011920928  "
      ]
     },
     "execution_count": 33,
     "metadata": {},
     "output_type": "execute_result"
    }
   ],
   "source": [
    "arbol3 = pd.DataFrame(dicc)\n",
    "arbol3.head()"
   ]
  },
  {
   "cell_type": "markdown",
   "metadata": {},
   "source": [
    "## Leer desde excel"
   ]
  },
  {
   "cell_type": "code",
   "execution_count": 45,
   "metadata": {},
   "outputs": [
    {
     "data": {
      "text/plain": [
       "'/home/rho/gdrive/Personales/Robert/Santoto/20211/Maestria_DM_ML/01_Semana1/01B_clase/base_arboles.xlsx'"
      ]
     },
     "execution_count": 45,
     "metadata": {},
     "output_type": "execute_result"
    }
   ],
   "source": [
    "os.path.join(path, 'base_arboles.xlsx')"
   ]
  },
  {
   "cell_type": "code",
   "execution_count": 51,
   "metadata": {},
   "outputs": [],
   "source": [
    "arbol_xl = pd.read_excel(os.path.join(path, 'base_arboles.xlsx'), engine='openpyxl'url = "
   ]
  },
  {
   "cell_type": "code",
   "execution_count": 52,
   "metadata": {},
   "outputs": [
    {
     "data": {
      "text/html": [
       "<div>\n",
       "<style scoped>\n",
       "    .dataframe tbody tr th:only-of-type {\n",
       "        vertical-align: middle;\n",
       "    }\n",
       "\n",
       "    .dataframe tbody tr th {\n",
       "        vertical-align: top;\n",
       "    }\n",
       "\n",
       "    .dataframe thead th {\n",
       "        text-align: right;\n",
       "    }\n",
       "</style>\n",
       "<table border=\"1\" class=\"dataframe\">\n",
       "  <thead>\n",
       "    <tr style=\"text-align: right;\">\n",
       "      <th></th>\n",
       "      <th>objectid</th>\n",
       "      <th>fisiologia</th>\n",
       "      <th>altura</th>\n",
       "      <th>diametro</th>\n",
       "      <th>pap</th>\n",
       "      <th>perimetro</th>\n",
       "      <th>altura_fus</th>\n",
       "    </tr>\n",
       "  </thead>\n",
       "  <tbody>\n",
       "    <tr>\n",
       "      <th>0</th>\n",
       "      <td>58566</td>\n",
       "      <td>Perennifolio</td>\n",
       "      <td>8.971847</td>\n",
       "      <td>2.00</td>\n",
       "      <td>0.40</td>\n",
       "      <td>0.45</td>\n",
       "      <td>2.523279</td>\n",
       "    </tr>\n",
       "    <tr>\n",
       "      <th>1</th>\n",
       "      <td>144860</td>\n",
       "      <td>Semicaducifolio</td>\n",
       "      <td>7.510006</td>\n",
       "      <td>4.00</td>\n",
       "      <td>0.29</td>\n",
       "      <td>0.35</td>\n",
       "      <td>3.081373</td>\n",
       "    </tr>\n",
       "    <tr>\n",
       "      <th>2</th>\n",
       "      <td>146014</td>\n",
       "      <td>Semicaducifolio</td>\n",
       "      <td>15.186397</td>\n",
       "      <td>7.57</td>\n",
       "      <td>1.63</td>\n",
       "      <td>2.14</td>\n",
       "      <td>5.509542</td>\n",
       "    </tr>\n",
       "    <tr>\n",
       "      <th>3</th>\n",
       "      <td>151897</td>\n",
       "      <td>Semicaducifolio</td>\n",
       "      <td>11.940282</td>\n",
       "      <td>7.00</td>\n",
       "      <td>0.70</td>\n",
       "      <td>1.74</td>\n",
       "      <td>4.560590</td>\n",
       "    </tr>\n",
       "    <tr>\n",
       "      <th>4</th>\n",
       "      <td>15787</td>\n",
       "      <td>Caducifolio</td>\n",
       "      <td>1.600000</td>\n",
       "      <td>0.80</td>\n",
       "      <td>0.00</td>\n",
       "      <td>0.23</td>\n",
       "      <td>0.550000</td>\n",
       "    </tr>\n",
       "  </tbody>\n",
       "</table>\n",
       "</div>"
      ],
      "text/plain": [
       "   objectid       fisiologia     altura  diametro   pap  perimetro  altura_fus\n",
       "0     58566     Perennifolio   8.971847      2.00  0.40       0.45    2.523279\n",
       "1    144860  Semicaducifolio   7.510006      4.00  0.29       0.35    3.081373\n",
       "2    146014  Semicaducifolio  15.186397      7.57  1.63       2.14    5.509542\n",
       "3    151897  Semicaducifolio  11.940282      7.00  0.70       1.74    4.560590\n",
       "4     15787      Caducifolio   1.600000      0.80  0.00       0.23    0.550000"
      ]
     },
     "execution_count": 52,
     "metadata": {},
     "output_type": "execute_result"
    }
   ],
   "source": [
    "arbol_xl.head()"
   ]
  },
  {
   "cell_type": "code",
   "execution_count": 54,
   "metadata": {},
   "outputs": [
    {
     "data": {
      "text/plain": [
       "objectid      0\n",
       "fisiologia    0\n",
       "altura        1\n",
       "diametro      9\n",
       "pap           0\n",
       "perimetro     0\n",
       "altura_fus    0\n",
       "dtype: int64"
      ]
     },
     "execution_count": 54,
     "metadata": {},
     "output_type": "execute_result"
    }
   ],
   "source": [
    "arbol_xl.isnull().sum()"
   ]
  },
  {
   "cell_type": "markdown",
   "metadata": {},
   "source": [
    "## Leer desde URL"
   ]
  },
  {
   "cell_type": "code",
   "execution_count": 55,
   "metadata": {},
   "outputs": [
    {
     "data": {
      "text/html": [
       "<div>\n",
       "<style scoped>\n",
       "    .dataframe tbody tr th:only-of-type {\n",
       "        vertical-align: middle;\n",
       "    }\n",
       "\n",
       "    .dataframe tbody tr th {\n",
       "        vertical-align: top;\n",
       "    }\n",
       "\n",
       "    .dataframe thead th {\n",
       "        text-align: right;\n",
       "    }\n",
       "</style>\n",
       "<table border=\"1\" class=\"dataframe\">\n",
       "  <thead>\n",
       "    <tr style=\"text-align: right;\">\n",
       "      <th></th>\n",
       "      <th>Year</th>\n",
       "      <th>City</th>\n",
       "      <th>Sport</th>\n",
       "      <th>Discipline</th>\n",
       "      <th>NOC</th>\n",
       "      <th>Event</th>\n",
       "      <th>Event gender</th>\n",
       "      <th>Medal</th>\n",
       "    </tr>\n",
       "  </thead>\n",
       "  <tbody>\n",
       "    <tr>\n",
       "      <th>0</th>\n",
       "      <td>1924</td>\n",
       "      <td>Chamonix</td>\n",
       "      <td>Skating</td>\n",
       "      <td>Figure skating</td>\n",
       "      <td>AUT</td>\n",
       "      <td>individual</td>\n",
       "      <td>M</td>\n",
       "      <td>Silver</td>\n",
       "    </tr>\n",
       "    <tr>\n",
       "      <th>1</th>\n",
       "      <td>1924</td>\n",
       "      <td>Chamonix</td>\n",
       "      <td>Skating</td>\n",
       "      <td>Figure skating</td>\n",
       "      <td>AUT</td>\n",
       "      <td>individual</td>\n",
       "      <td>W</td>\n",
       "      <td>Gold</td>\n",
       "    </tr>\n",
       "    <tr>\n",
       "      <th>2</th>\n",
       "      <td>1924</td>\n",
       "      <td>Chamonix</td>\n",
       "      <td>Skating</td>\n",
       "      <td>Figure skating</td>\n",
       "      <td>AUT</td>\n",
       "      <td>pairs</td>\n",
       "      <td>X</td>\n",
       "      <td>Gold</td>\n",
       "    </tr>\n",
       "    <tr>\n",
       "      <th>3</th>\n",
       "      <td>1924</td>\n",
       "      <td>Chamonix</td>\n",
       "      <td>Bobsleigh</td>\n",
       "      <td>Bobsleigh</td>\n",
       "      <td>BEL</td>\n",
       "      <td>four-man</td>\n",
       "      <td>M</td>\n",
       "      <td>Bronze</td>\n",
       "    </tr>\n",
       "    <tr>\n",
       "      <th>4</th>\n",
       "      <td>1924</td>\n",
       "      <td>Chamonix</td>\n",
       "      <td>Ice Hockey</td>\n",
       "      <td>Ice Hockey</td>\n",
       "      <td>CAN</td>\n",
       "      <td>ice hockey</td>\n",
       "      <td>M</td>\n",
       "      <td>Gold</td>\n",
       "    </tr>\n",
       "  </tbody>\n",
       "</table>\n",
       "</div>"
      ],
      "text/plain": [
       "   Year      City       Sport      Discipline  NOC       Event Event gender  \\\n",
       "0  1924  Chamonix     Skating  Figure skating  AUT  individual            M   \n",
       "1  1924  Chamonix     Skating  Figure skating  AUT  individual            W   \n",
       "2  1924  Chamonix     Skating  Figure skating  AUT       pairs            X   \n",
       "3  1924  Chamonix   Bobsleigh       Bobsleigh  BEL    four-man            M   \n",
       "4  1924  Chamonix  Ice Hockey      Ice Hockey  CAN  ice hockey            M   \n",
       "\n",
       "    Medal  \n",
       "0  Silver  \n",
       "1    Gold  \n",
       "2    Gold  \n",
       "3  Bronze  \n",
       "4    Gold  "
      ]
     },
     "execution_count": 55,
     "metadata": {},
     "output_type": "execute_result"
    }
   ],
   "source": [
    "url = 'http://winterolympicsmedals.com/medals.csv'\n",
    "datos_url = pd.read_csv(url)\n",
    "datos_url.head()"
   ]
  }
 ],
 "metadata": {
  "kernelspec": {
   "display_name": "Python 3",
   "language": "python",
   "name": "python3"
  },
  "language_info": {
   "codemirror_mode": {
    "name": "ipython",
    "version": 3
   },
   "file_extension": ".py",
   "mimetype": "text/x-python",
   "name": "python",
   "nbconvert_exporter": "python",
   "pygments_lexer": "ipython3",
   "version": "3.6.9"
  }
 },
 "nbformat": 4,
 "nbformat_minor": 4
}
