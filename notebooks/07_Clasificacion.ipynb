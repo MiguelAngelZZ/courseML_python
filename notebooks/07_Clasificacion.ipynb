{
 "cells": [
  {
   "cell_type": "markdown",
   "metadata": {},
   "source": [
    "## Clasificación"
   ]
  },
  {
   "cell_type": "code",
   "execution_count": 1,
   "metadata": {},
   "outputs": [],
   "source": [
    "from matplotlib import pyplot as plt ## graficar\n",
    "import numpy as np ### operar vectores\n",
    "import pandas as pd #### manejar dataframes\n",
    "from sklearn.preprocessing import PolynomialFeatures, StandardScaler ### preprocesar los datos\n",
    "from sklearn.model_selection import cross_val_score #### NO SE USA\n",
    "from sklearn.model_selection import GridSearchCV #### Validación cruzada\n",
    "import warnings\n",
    "warnings.filterwarnings(\"ignore\")"
   ]
  },
  {
   "cell_type": "code",
   "execution_count": 2,
   "metadata": {},
   "outputs": [
    {
     "name": "stdout",
     "output_type": "stream",
     "text": [
      "<class 'pandas.core.frame.DataFrame'>\n",
      "RangeIndex: 118 entries, 0 to 117\n",
      "Data columns (total 3 columns):\n",
      " #   Column  Non-Null Count  Dtype  \n",
      "---  ------  --------------  -----  \n",
      " 0   med1    118 non-null    float64\n",
      " 1   med2    118 non-null    float64\n",
      " 2   clase   118 non-null    int64  \n",
      "dtypes: float64(2), int64(1)\n",
      "memory usage: 2.9 KB\n"
     ]
    }
   ],
   "source": [
    "#leer datos\n",
    "path = '/home/rho/gdrive/Personales/Robert/Santoto/20211/Maestria_DM_ML/02_Semana2/'\n",
    "datos = pd.read_csv(path + 'base_logistica.csv', header=None, names = ('med1','med2','clase'))\n",
    "datos.info()"
   ]
  },
  {
   "cell_type": "code",
   "execution_count": 3,
   "metadata": {},
   "outputs": [
    {
     "data": {
      "text/html": [
       "<div>\n",
       "<style scoped>\n",
       "    .dataframe tbody tr th:only-of-type {\n",
       "        vertical-align: middle;\n",
       "    }\n",
       "\n",
       "    .dataframe tbody tr th {\n",
       "        vertical-align: top;\n",
       "    }\n",
       "\n",
       "    .dataframe thead th {\n",
       "        text-align: right;\n",
       "    }\n",
       "</style>\n",
       "<table border=\"1\" class=\"dataframe\">\n",
       "  <thead>\n",
       "    <tr style=\"text-align: right;\">\n",
       "      <th></th>\n",
       "      <th>med1</th>\n",
       "      <th>med2</th>\n",
       "      <th>clase</th>\n",
       "    </tr>\n",
       "  </thead>\n",
       "  <tbody>\n",
       "    <tr>\n",
       "      <th>0</th>\n",
       "      <td>0.051267</td>\n",
       "      <td>0.69956</td>\n",
       "      <td>1</td>\n",
       "    </tr>\n",
       "    <tr>\n",
       "      <th>1</th>\n",
       "      <td>-0.092742</td>\n",
       "      <td>0.68494</td>\n",
       "      <td>1</td>\n",
       "    </tr>\n",
       "    <tr>\n",
       "      <th>2</th>\n",
       "      <td>-0.213710</td>\n",
       "      <td>0.69225</td>\n",
       "      <td>1</td>\n",
       "    </tr>\n",
       "    <tr>\n",
       "      <th>3</th>\n",
       "      <td>-0.375000</td>\n",
       "      <td>0.50219</td>\n",
       "      <td>1</td>\n",
       "    </tr>\n",
       "    <tr>\n",
       "      <th>4</th>\n",
       "      <td>-0.513250</td>\n",
       "      <td>0.46564</td>\n",
       "      <td>1</td>\n",
       "    </tr>\n",
       "  </tbody>\n",
       "</table>\n",
       "</div>"
      ],
      "text/plain": [
       "       med1     med2  clase\n",
       "0  0.051267  0.69956      1\n",
       "1 -0.092742  0.68494      1\n",
       "2 -0.213710  0.69225      1\n",
       "3 -0.375000  0.50219      1\n",
       "4 -0.513250  0.46564      1"
      ]
     },
     "execution_count": 3,
     "metadata": {},
     "output_type": "execute_result"
    }
   ],
   "source": [
    "datos.head()"
   ]
  },
  {
   "cell_type": "code",
   "execution_count": 4,
   "metadata": {},
   "outputs": [],
   "source": [
    "## separar predictores y variable respuesta\n",
    "X = datos.drop(columns = 'clase')\n",
    "y = datos.clase.values\n",
    "\n",
    "## Estandarizar los datos\n",
    "sc = StandardScaler() ### incializar\n",
    "sc.fit(X) ## ajusta a los valores de x : sklearn\n",
    "X_std = sc.transform(X)"
   ]
  },
  {
   "cell_type": "code",
   "execution_count": 5,
   "metadata": {},
   "outputs": [
    {
     "data": {
      "text/plain": [
       "array([[-0.00710129,  0.99791805],\n",
       "       [-0.29829632,  0.9696688 ],\n",
       "       [-0.54290103,  0.98379343],\n",
       "       [-0.8690393 ,  0.61655322],\n",
       "       [-1.14858928,  0.5459301 ],\n",
       "       [-1.17188342,  0.05158761]])"
      ]
     },
     "execution_count": 5,
     "metadata": {},
     "output_type": "execute_result"
    }
   ],
   "source": [
    "X_std[:6]"
   ]
  },
  {
   "cell_type": "code",
   "execution_count": 6,
   "metadata": {},
   "outputs": [
    {
     "data": {
      "text/plain": [
       "<matplotlib.legend.Legend at 0x7f6f2c9306a0>"
      ]
     },
     "execution_count": 6,
     "metadata": {},
     "output_type": "execute_result"
    },
    {
     "data": {
      "image/png": "[encoded data removed]",
      "text/plain": [
       "<Figure size 432x288 with 1 Axes>"
      ]
     },
     "metadata": {
      "needs_background": "light"
     },
     "output_type": "display_data"
    }
   ],
   "source": [
    "# gráfica de información\n",
    "plt.scatter(X_std[y == 1,0], X_std[y == 1,1], c='orange', label='Positivo')\n",
    "plt.scatter(X_std[y == 0,0], X_std[y == 0,1], c='blue', label='Negativo')\n",
    "plt.xlabel(\"Med1\")\n",
    "plt.ylabel(\"Med2\")\n",
    "plt.title('Ejemplo Clasificación')\n",
    "plt.legend()"
   ]
  },
  {
   "cell_type": "code",
   "execution_count": 4,
   "metadata": {},
   "outputs": [],
   "source": [
    "# región de clasificación\n",
    "def plot_boundary(clf, X, grid_step=.01, mat_poly = None):\n",
    "    #X: numpy array\n",
    "    #y: numpy array\n",
    "    x_min, x_max = X[:, 0].min() - .1, X[:, 0].max() + .1\n",
    "    y_min, y_max = X[:, 1].min() - .1, X[:, 1].max() + .1\n",
    "    xx, yy = np.meshgrid(np.arange(x_min, x_max, grid_step),\n",
    "                         np.arange(y_min, y_max, grid_step))\n",
    "    if mat_poly:\n",
    "        Z = clf.predict(mat_poly.transform(np.c_[xx.ravel(), yy.ravel()]))\n",
    "        Z = Z.reshape(xx.shape)\n",
    "    else:\n",
    "        Z = clf.predict(np.array([xx.ravel(), xx.ravel()]).T)\n",
    "        Z = Z.reshape(xx.shape)\n",
    "    plt.contourf(xx, yy, Z, cmap=plt.cm.Paired, alpha = 0.3)"
   ]
  },
  {
   "cell_type": "code",
   "execution_count": 61,
   "metadata": {},
   "outputs": [
    {
     "data": {
      "text/plain": [
       "(118, 2)"
      ]
     },
     "execution_count": 61,
     "metadata": {},
     "output_type": "execute_result"
    }
   ],
   "source": [
    "X.shape"
   ]
  },
  {
   "cell_type": "markdown",
   "metadata": {},
   "source": [
    "# Regresión logística sobre los datos estandarizados"
   ]
  },
  {
   "cell_type": "code",
   "execution_count": 62,
   "metadata": {},
   "outputs": [],
   "source": [
    "from sklearn.linear_model import LogisticRegression\n",
    "logit = LogisticRegression(random_state=123456) ## inicializar\n",
    "logit.fit(X_std, y) ### aplico el metodo fit (ajustar la regresión logística a los datos)\n",
    "y_pred = logit.predict(X_std)"
   ]
  },
  {
   "cell_type": "code",
   "execution_count": 63,
   "metadata": {},
   "outputs": [
    {
     "data": {
      "text/plain": [
       "array([0, 1, 1, 1, 1, 1, 1, 1, 0, 0, 0, 0, 0, 0, 0, 0, 0, 0, 1, 1, 1, 1,\n",
       "       1, 1, 1, 0, 0, 0, 1, 1, 1, 1, 1, 1, 1, 1, 1, 1, 0, 0, 0, 0, 0, 0,\n",
       "       0, 0, 0, 0, 0, 0, 0, 0, 1, 1, 1, 1, 1, 1, 0, 0, 0, 0, 0, 0, 0, 0,\n",
       "       0, 0, 0, 0, 0, 0, 0, 0, 0, 0, 0, 0, 0, 0, 0, 1, 1, 1, 1, 1, 1, 1,\n",
       "       1, 1, 1, 1, 0, 0, 0, 0, 0, 0, 0, 0, 0, 0, 1, 1, 1, 1, 1, 1, 1, 1,\n",
       "       1, 1, 1, 1, 1, 1, 0, 0])"
      ]
     },
     "execution_count": 63,
     "metadata": {},
     "output_type": "execute_result"
    }
   ],
   "source": [
    "y_pred"
   ]
  },
  {
   "cell_type": "code",
   "execution_count": 64,
   "metadata": {},
   "outputs": [
    {
     "data": {
      "text/plain": [
       "53"
      ]
     },
     "execution_count": 64,
     "metadata": {},
     "output_type": "execute_result"
    }
   ],
   "source": [
    "(y_pred != y).sum()"
   ]
  },
  {
   "cell_type": "code",
   "execution_count": 65,
   "metadata": {},
   "outputs": [
    {
     "name": "stdout",
     "output_type": "stream",
     "text": [
      "El error de predicción es:  44.92 %\n",
      "La precisión de la predicción es:  55.08 %\n"
     ]
    }
   ],
   "source": [
    "## Esperanza del error de predicción\n",
    "error = (y_pred != y).sum()/len(y)\n",
    "print('El error de predicción es: ', np.round(error*100,2), '%')\n",
    "print('La precisión de la predicción es: ', np.round((1-error)*100,2), '%')"
   ]
  },
  {
   "cell_type": "code",
   "execution_count": 66,
   "metadata": {},
   "outputs": [
    {
     "name": "stdout",
     "output_type": "stream",
     "text": [
      "Accuracy: 55.08 %\n"
     ]
    }
   ],
   "source": [
    "## Precisión de la clasificación por scikit-learn\n",
    "from sklearn.metrics import accuracy_score, roc_auc_score\n",
    "print('Accuracy: %.2f' % np.round(accuracy_score(y_pred, y)*100,2), '%')"
   ]
  },
  {
   "cell_type": "code",
   "execution_count": 67,
   "metadata": {},
   "outputs": [
    {
     "data": {
      "text/html": [
       "<div>\n",
       "<style scoped>\n",
       "    .dataframe tbody tr th:only-of-type {\n",
       "        vertical-align: middle;\n",
       "    }\n",
       "\n",
       "    .dataframe tbody tr th {\n",
       "        vertical-align: top;\n",
       "    }\n",
       "\n",
       "    .dataframe thead th {\n",
       "        text-align: right;\n",
       "    }\n",
       "</style>\n",
       "<table border=\"1\" class=\"dataframe\">\n",
       "  <thead>\n",
       "    <tr style=\"text-align: right;\">\n",
       "      <th>col_0</th>\n",
       "      <th>0</th>\n",
       "      <th>1</th>\n",
       "    </tr>\n",
       "    <tr>\n",
       "      <th>row_0</th>\n",
       "      <th></th>\n",
       "      <th></th>\n",
       "    </tr>\n",
       "  </thead>\n",
       "  <tbody>\n",
       "    <tr>\n",
       "      <th>0</th>\n",
       "      <td>35</td>\n",
       "      <td>25</td>\n",
       "    </tr>\n",
       "    <tr>\n",
       "      <th>1</th>\n",
       "      <td>28</td>\n",
       "      <td>30</td>\n",
       "    </tr>\n",
       "  </tbody>\n",
       "</table>\n",
       "</div>"
      ],
      "text/plain": [
       "col_0   0   1\n",
       "row_0        \n",
       "0      35  25\n",
       "1      28  30"
      ]
     },
     "execution_count": 67,
     "metadata": {},
     "output_type": "execute_result"
    }
   ],
   "source": [
    "# matriz de confusión\n",
    "pd.crosstab(y, y_pred)"
   ]
  },
  {
   "cell_type": "code",
   "execution_count": 68,
   "metadata": {},
   "outputs": [
    {
     "data": {
      "text/plain": [
       "array([[35, 25],\n",
       "       [28, 30]])"
      ]
     },
     "execution_count": 68,
     "metadata": {},
     "output_type": "execute_result"
    }
   ],
   "source": [
    "from sklearn.metrics import confusion_matrix\n",
    "confusion_matrix(y, y_pred)"
   ]
  },
  {
   "cell_type": "code",
   "execution_count": 69,
   "metadata": {},
   "outputs": [
    {
     "data": {
      "text/plain": [
       "<matplotlib.legend.Legend at 0x7fb8da56fd30>"
      ]
     },
     "execution_count": 69,
     "metadata": {},
     "output_type": "execute_result"
    },
    {
     "data": {
      "image/png": "[encoded data removed]",
      "text/plain": [
       "<Figure size 432x288 with 1 Axes>"
      ]
     },
     "metadata": {
      "needs_background": "light"
     },
     "output_type": "display_data"
    }
   ],
   "source": [
    "# Región de decisión para la regresión logística sobre los datos estandarizados\n",
    "plt.scatter(X_std[y == 1,0], X_std[y == 1,1], c='orange', label='Positivo')\n",
    "plt.scatter(X_std[y == 0,0], X_std[y == 0,1], c='blue', label='Negativo')\n",
    "plot_boundary(logit, X_std, grid_step=.01) # dibujo la región de clasificación\n",
    "plt.xlabel(\"med1\")\n",
    "plt.ylabel(\"med2\")\n",
    "plt.legend()"
   ]
  },
  {
   "cell_type": "markdown",
   "metadata": {},
   "source": [
    "# Flexibilizar el modelo aumentando la dimensionalidad\n",
    "\n",
    "Para aumentar la dimensionalidad del espacio de predictores, se deben tener en cuenta las interacciones polinomiales según la cantidad de variables en el conjunto de predictores de la siguiente manera:\n",
    "\n",
    "$$\\large \\{x_1^d, x_1^{d-1}x_2, \\ldots x_2^d\\} =  \\{x_1^ix_2^j\\}_{i+j=d, i,j \\in \\mathbb{N} }$$\n",
    "\n",
    "Entonces, para $d = 2$ se tiene:\n",
    "\n",
    "$$\\large 1, x_1, x_2,  x_1^2, x_1x_2, x_2^2$$\n",
    "\n",
    "Para $d = 3$ se tiene:\n",
    "\n",
    "$$\\large 1, x_1, x_2,  x_1^2, x_1x_2, x_2^2, x_1^3, x_1^2x_2, x_1x_2^2, x_2^3$$\n",
    "\n",
    "**sklearn** dispone de una función para realizar esta expansión polinomial mediante el módulo *PolynomialFeatures*.\n"
   ]
  },
  {
   "cell_type": "code",
   "execution_count": 70,
   "metadata": {},
   "outputs": [],
   "source": [
    "poly = PolynomialFeatures(degree=2) #Generar interacciones polinomiales... probar con2, 3, 5, 10, 15, 20, 22\n",
    "X_poly = poly.fit_transform(X_std)"
   ]
  },
  {
   "cell_type": "code",
   "execution_count": 71,
   "metadata": {},
   "outputs": [
    {
     "data": {
      "text/plain": [
       "array([[ 1.00000000e+00, -7.10129423e-03,  9.97918051e-01,\n",
       "         5.04283798e-05, -7.08650970e-03,  9.95840438e-01],\n",
       "       [ 1.00000000e+00, -2.98296321e-01,  9.69668805e-01,\n",
       "         8.89806949e-02, -2.89248637e-01,  9.40257591e-01],\n",
       "       [ 1.00000000e+00, -5.42901033e-01,  9.83793428e-01,\n",
       "         2.94741531e-01, -5.34102468e-01,  9.67849509e-01],\n",
       "       [ 1.00000000e+00, -8.69039300e-01,  6.16553221e-01,\n",
       "         7.55229306e-01, -5.35808980e-01,  3.80137874e-01],\n",
       "       [ 1.00000000e+00, -1.14858928e+00,  5.45930104e-01,\n",
       "         1.31925732e+00, -6.27049463e-01,  2.98039678e-01],\n",
       "       [ 1.00000000e+00, -1.17188342e+00,  5.15876086e-02,\n",
       "         1.37331075e+00, -6.04546633e-02,  2.66128136e-03]])"
      ]
     },
     "execution_count": 71,
     "metadata": {},
     "output_type": "execute_result"
    }
   ],
   "source": [
    "X_poly[:6]"
   ]
  },
  {
   "cell_type": "code",
   "execution_count": 72,
   "metadata": {},
   "outputs": [],
   "source": [
    "logit2 = LogisticRegression(random_state=123456)\n",
    "logit2.fit(X_poly, y)\n",
    "y_pred = logit2.predict(X_poly)"
   ]
  },
  {
   "cell_type": "code",
   "execution_count": 73,
   "metadata": {},
   "outputs": [
    {
     "name": "stdout",
     "output_type": "stream",
     "text": [
      "Accuracy: 83.90 %\n"
     ]
    }
   ],
   "source": [
    "print('Accuracy: %.2f' % np.round(accuracy_score(y_pred, y)*100,2), '%')"
   ]
  },
  {
   "cell_type": "code",
   "execution_count": 19,
   "metadata": {},
   "outputs": [
    {
     "name": "stdout",
     "output_type": "stream",
     "text": [
      "Accuracy sobre los datos de entrenamiento: 0.839\n"
     ]
    },
    {
     "data": {
      "image/png": "[encoded data removed]",
      "text/plain": [
       "<Figure size 432x288 with 1 Axes>"
      ]
     },
     "metadata": {
      "needs_background": "light"
     },
     "output_type": "display_data"
    }
   ],
   "source": [
    "plot_boundary(logit2, X_std, grid_step=.01, mat_poly=poly)\n",
    "\n",
    "plt.scatter(X_std[y == 1,0], X_std[y == 1,1], c='orange', label='Positivo')\n",
    "plt.scatter(X_std[y == 0,0], X_std[y == 0,1], c='blue', label='Negativo')\n",
    "plt.xlabel(\"med1\")\n",
    "plt.ylabel(\"med2\")\n",
    "plt.legend()\n",
    "\n",
    "print(\"Accuracy sobre los datos de entrenamiento:\", round(logit2.score(X_poly, y), 3))"
   ]
  },
  {
   "cell_type": "code",
   "execution_count": 76,
   "metadata": {},
   "outputs": [
    {
     "name": "stdout",
     "output_type": "stream",
     "text": [
      "AUC: 0.92\n"
     ]
    },
    {
     "data": {
      "image/png": "[encoded data removed]",
      "text/plain": [
       "<Figure size 432x288 with 1 Axes>"
      ]
     },
     "metadata": {
      "needs_background": "light"
     },
     "output_type": "display_data"
    }
   ],
   "source": [
    "### Graficando Curva ROC\n",
    "# importar funciones\n",
    "from sklearn.metrics import roc_curve, roc_auc_score\n",
    "\n",
    "# predecir las probabilidades para el hold-out\n",
    "probs = logit2.predict_proba(X_poly)\n",
    "# Mantener las probabilidades de la clase positiva (1)\n",
    "probs = probs[:, 1]\n",
    "# Calcular el AUC (Área bajo la curva ROC)\n",
    "auc = roc_auc_score(y, probs)\n",
    "print('AUC: %.2f' % auc)\n",
    "# Obtener la curva ROC\n",
    "fpr, tpr, umbral = roc_curve(y, probs)\n",
    "# Graficar la curva ROC\n",
    "plt.plot(fpr, tpr, color='orange', label='ROC')\n",
    "plt.plot([0, 1], [0, 1], color='darkblue', linestyle='--')\n",
    "plt.xlabel('False Positive Rate')\n",
    "plt.ylabel('True Positive Rate')\n",
    "plt.title('Curva ROC (Receiver Operating Characteristic)')\n",
    "plt.legend()\n",
    "plt.show()"
   ]
  },
  {
   "cell_type": "code",
   "execution_count": 77,
   "metadata": {},
   "outputs": [
    {
     "data": {
      "application/vnd.jupyter.widget-view+json": {
       "model_id": "3b3afe6daf994b208103bd36892b065b",
       "version_major": 2,
       "version_minor": 0
      },
      "text/plain": [
       "interactive(children=(FloatSlider(value=1.0, description='d', max=20.0, min=1.0, readout_format='.0f', step=1.…"
      ]
     },
     "metadata": {},
     "output_type": "display_data"
    },
    {
     "data": {
      "text/plain": [
       "<function __main__.poly_plot(d=10)>"
      ]
     },
     "execution_count": 77,
     "metadata": {},
     "output_type": "execute_result"
    }
   ],
   "source": [
    "%matplotlib inline\n",
    "from ipywidgets import * ###  nodejs\n",
    "\n",
    "def poly_plot(d = 10):\n",
    "    poly = PolynomialFeatures(degree = int(d)) #Generar interacciones polinomiales... probar con2, 3, 5, 10, 15, 20, 22\n",
    "    X_poly = poly.fit_transform(X_std)\n",
    "    logit2 = LogisticRegression(random_state=123456)\n",
    "    logit.fit(X_poly, y)\n",
    "    y_pred = logit.predict(X_poly)\n",
    "    print('Accuracy: %.2f' % np.round(accuracy_score(y_pred, y)*100,2), '%')\n",
    "    plot_boundary(logit, X_std, grid_step=.01, mat_poly=poly)\n",
    "    plt.scatter(X_std[y == 1,0], X_std[y == 1,1], c='orange', label='Positivo')\n",
    "    plt.scatter(X_std[y == 0,0], X_std[y == 0,1], c='blue', label='Negativo')\n",
    "    plt.xlabel(\"med1\")\n",
    "    plt.ylabel(\"med2\")\n",
    "    plt.legend()\n",
    "\n",
    "interact(poly_plot, d = widgets.FloatSlider(value=1, min=1, max=20, step=1, readout_format='.0f'))"
   ]
  },
  {
   "cell_type": "markdown",
   "metadata": {},
   "source": [
    "# Flexibilizar el modelo con el parámetro de regularización\n",
    "\n",
    "### opción modelo simple"
   ]
  },
  {
   "cell_type": "code",
   "execution_count": 78,
   "metadata": {},
   "outputs": [
    {
     "name": "stdout",
     "output_type": "stream",
     "text": [
      "Accuracy: 55.08 %\n"
     ]
    }
   ],
   "source": [
    "c = 10 ## probar con 0.05, 1, 5, 10\n",
    "logit = LogisticRegression(C = c, random_state=123456) #inicializar\n",
    "logit.fit(X_std, y)\n",
    "y_pred = logit.predict(X_std)\n",
    "print('Accuracy: %.2f' % np.round(accuracy_score(y_pred, y)*100,2), '%')"
   ]
  },
  {
   "cell_type": "code",
   "execution_count": 79,
   "metadata": {},
   "outputs": [
    {
     "name": "stdout",
     "output_type": "stream",
     "text": [
      "Accuracy sobre los datos de entrenamiento: 0.551\n"
     ]
    },
    {
     "data": {
      "image/png": "[encoded data removed]",
      "text/plain": [
       "<Figure size 432x288 with 1 Axes>"
      ]
     },
     "metadata": {
      "needs_background": "light"
     },
     "output_type": "display_data"
    }
   ],
   "source": [
    "plot_boundary(logit, X_std, grid_step=.01)\n",
    "plt.scatter(X_std[y == 1,0], X_std[y == 1,1], c='orange', label='Positivo')\n",
    "plt.scatter(X_std[y == 0,0], X_std[y == 0,1], c='blue', label='Negativo')\n",
    "plt.xlabel(\"med1\")\n",
    "plt.ylabel(\"med2\")\n",
    "plt.title('Regresión Logística con regularización C=%s' % c)\n",
    "plt.legend()\n",
    "\n",
    "print(\"Accuracy sobre los datos de entrenamiento:\", round(logit.score(X_std, y), 3))"
   ]
  },
  {
   "cell_type": "code",
   "execution_count": 81,
   "metadata": {},
   "outputs": [
    {
     "data": {
      "application/vnd.jupyter.widget-view+json": {
       "model_id": "693e78fd33ec40deaba0ef39293b5661",
       "version_major": 2,
       "version_minor": 0
      },
      "text/plain": [
       "interactive(children=(FloatSlider(value=0.01, description='c', max=0.5, min=0.01, readout_format='.3f', step=1…"
      ]
     },
     "metadata": {},
     "output_type": "display_data"
    },
    {
     "data": {
      "text/plain": [
       "<function __main__.c_plot(c=0.01)>"
      ]
     },
     "execution_count": 81,
     "metadata": {},
     "output_type": "execute_result"
    }
   ],
   "source": [
    "%matplotlib inline\n",
    "\n",
    "def c_plot(c = 0.01):\n",
    "    logit = LogisticRegression(C = c, random_state=123456)\n",
    "    logit.fit(X_std, y)\n",
    "    y_pred = logit.predict(X_std)\n",
    "    print('Accuracy: %.2f' % np.round(accuracy_score(y_pred, y)*100,2), '%')\n",
    "    plot_boundary(logit, X_std, grid_step=.01)\n",
    "    plt.scatter(X_std[y == 1,0], X_std[y == 1,1], c='orange', label='Positivo')\n",
    "    plt.scatter(X_std[y == 0,0], X_std[y == 0,1], c='blue', label='Negativo')\n",
    "    plt.xlabel(\"med1\")\n",
    "    plt.ylabel(\"med2\")\n",
    "    plt.legend()\n",
    "\n",
    "interact(c_plot, c = widgets.FloatSlider(value=0.01, min=0.01, max=0.5, step=0.00001, readout_format='.3f'))\n"
   ]
  },
  {
   "cell_type": "code",
   "execution_count": 82,
   "metadata": {},
   "outputs": [],
   "source": [
    "poly = PolynomialFeatures(degree=6) #Generar interacciones polinomiales... probar con2, 3, 5, 10, 15, 20, 22\n",
    "X_poly = poly.fit_transform(X_std)"
   ]
  },
  {
   "cell_type": "code",
   "execution_count": 84,
   "metadata": {},
   "outputs": [
    {
     "name": "stdout",
     "output_type": "stream",
     "text": [
      "Accuracy: 86.44 %\n"
     ]
    }
   ],
   "source": [
    "C = 100 ## probar con 0.05, 1, 50, 100\n",
    "logit3 = LogisticRegression(C=C, random_state=123456)\n",
    "logit3.fit(X_poly, y)\n",
    "y_pred = logit3.predict(X_poly)\n",
    "print('Accuracy: %.2f' % np.round(accuracy_score(y_pred, y)*100,2), '%')"
   ]
  },
  {
   "cell_type": "code",
   "execution_count": 87,
   "metadata": {},
   "outputs": [
    {
     "data": {
      "text/plain": [
       "array([1, 1, 1, 1, 1, 1, 1, 1, 1, 1, 1, 1, 1, 1, 1, 1, 1, 1, 1, 1, 0, 1,\n",
       "       1, 0, 1, 0, 1, 1, 1, 1, 1, 1, 1, 1, 1, 1, 1, 1, 1, 1, 1, 1, 1, 1,\n",
       "       1, 1, 1, 1, 0, 0, 1, 1, 1, 1, 1, 1, 1, 1, 0, 0, 1, 0, 0, 1, 0, 0,\n",
       "       0, 0, 0, 0, 0, 0, 0, 0, 0, 0, 1, 1, 0, 0, 0, 0, 0, 0, 0, 0, 0, 0,\n",
       "       1, 0, 0, 0, 1, 0, 0, 0, 0, 0, 0, 0, 0, 0, 0, 0, 1, 0, 1, 1, 0, 0,\n",
       "       0, 0, 0, 0, 1, 0, 0, 1])"
      ]
     },
     "execution_count": 87,
     "metadata": {},
     "output_type": "execute_result"
    }
   ],
   "source": [
    "y_pred"
   ]
  },
  {
   "cell_type": "code",
   "execution_count": 85,
   "metadata": {},
   "outputs": [
    {
     "name": "stdout",
     "output_type": "stream",
     "text": [
      "Accuracy sobre los datos de entrenamiento: 0.864\n"
     ]
    },
    {
     "data": {
      "image/png": "[encoded data removed]",
      "text/plain": [
       "<Figure size 432x288 with 1 Axes>"
      ]
     },
     "metadata": {
      "needs_background": "light"
     },
     "output_type": "display_data"
    }
   ],
   "source": [
    "plot_boundary(logit3, X_std, grid_step=.01, mat_poly=poly)\n",
    "plt.scatter(X_std[y == 1,0], X_std[y == 1,1], c='orange', label='Positivo')\n",
    "plt.scatter(X_std[y == 0,0], X_std[y == 0,1], c='blue', label='Negativo')\n",
    "plt.xlabel(\"med1\")\n",
    "plt.ylabel(\"med2\")\n",
    "plt.legend()\n",
    "\n",
    "print(\"Accuracy sobre los datos de entrenamiento:\", round(logit.score(X_poly, y), 3))"
   ]
  },
  {
   "cell_type": "code",
   "execution_count": 86,
   "metadata": {},
   "outputs": [
    {
     "data": {
      "application/vnd.jupyter.widget-view+json": {
       "model_id": "86637efa485842fd8d5c55e7918506f8",
       "version_major": 2,
       "version_minor": 0
      },
      "text/plain": [
       "interactive(children=(FloatSlider(value=1.0, description='d', min=1.0, readout_format='.1f', step=1.0), FloatS…"
      ]
     },
     "metadata": {},
     "output_type": "display_data"
    },
    {
     "data": {
      "text/plain": [
       "<function __main__.poly_plot(d=7, c=0)>"
      ]
     },
     "execution_count": 86,
     "metadata": {},
     "output_type": "execute_result"
    }
   ],
   "source": [
    "%matplotlib inline\n",
    "from ipywidgets import *\n",
    "\n",
    "def poly_plot(d = 7, c = 0):\n",
    "    polyn = PolynomialFeatures(degree = int(d))\n",
    "    X_poly = polyn.fit_transform(X)\n",
    "    logit2 = LogisticRegression(C=c, random_state=123456)\n",
    "    logit2.fit(X_poly, y)\n",
    "    y_pred = logit2.predict(X_poly)\n",
    "    print('Accuracy: %.2f' % np.round(accuracy_score(y_pred, y)*100,2), '%')\n",
    "    plot_boundary(logit2, X.values, grid_step=.01, mat_poly = polyn)\n",
    "    plt.scatter(X.values[y == 1,0], X.values[y == 1,1], c='orange', label='Positivo')\n",
    "    plt.scatter(X.values[y == 0,0], X.values[y == 0,1], c='blue', label='Negativo')\n",
    "    plt.xlabel(\"med1\")\n",
    "    plt.ylabel(\"med2\")\n",
    "    plt.legend()\n",
    "\n",
    "interact(poly_plot, c = widgets.FloatSlider(value=0.01, min=0.01, max=1, step=0.001, readout_format='.3f'),\n",
    "        d = widgets.FloatSlider(value=1, min=1, max=100, step=1, readout_format='.1f'))"
   ]
  },
  {
   "cell_type": "markdown",
   "metadata": {},
   "source": [
    "## Conclusiones??"
   ]
  },
  {
   "cell_type": "markdown",
   "metadata": {},
   "source": [
    "## Validación cruzada para el parámetro C"
   ]
  },
  {
   "cell_type": "code",
   "execution_count": 5,
   "metadata": {},
   "outputs": [],
   "source": [
    "def plot_boundary_cal(clf, X, grid_step=.01, mat_poly = None, xtest = False, ytest = False):\n",
    "    x_min, x_max = X[:, 0].min() - .1, X[:, 0].max() + .1\n",
    "    y_min, y_max = X[:, 1].min() - .1, X[:, 1].max() + .1\n",
    "    xx, yy = np.meshgrid(np.arange(x_min, x_max, grid_step),\n",
    "                         np.arange(y_min, y_max, grid_step))\n",
    "    if mat_poly:\n",
    "        Z = clf.predict(mat_poly.transform(np.c_[xx.ravel(), yy.ravel()]))\n",
    "        Z = Z.reshape(xx.shape)\n",
    "    else:\n",
    "        Z = clf.predict(np.array([xx.ravel(), yy.ravel()]).T)\n",
    "        Z = Z.reshape(xx.shape)\n",
    "    plt.contourf(xx, yy, Z, cmap=plt.cm.Paired,alpha = 0.3)"
   ]
  },
  {
   "cell_type": "markdown",
   "metadata": {},
   "source": [
    "La librería **sklearn** permite seleccionar las muestras de entrenamiento y validación aleatoriamente (ver ayuda de *train_test_split*) e incluso de manera estratificada."
   ]
  },
  {
   "cell_type": "code",
   "execution_count": 30,
   "metadata": {},
   "outputs": [],
   "source": [
    "from sklearn.model_selection import train_test_split"
   ]
  },
  {
   "cell_type": "code",
   "execution_count": 90,
   "metadata": {},
   "outputs": [],
   "source": [
    "X_train, X_test, y_train, y_test = train_test_split(X, y, test_size=0.3, random_state=123456, stratify = y)\n",
    "sc = StandardScaler()\n",
    "sc.fit(X_train)\n",
    "X_train_std = sc.transform(X_train)\n",
    "X_test_std = sc.transform(X_test)"
   ]
  },
  {
   "cell_type": "code",
   "execution_count": 91,
   "metadata": {},
   "outputs": [
    {
     "name": "stdout",
     "output_type": "stream",
     "text": [
      "[60 58]\n",
      "[42 40]\n",
      "[18 18]\n"
     ]
    }
   ],
   "source": [
    "print(np.bincount(y))\n",
    "print(np.bincount(y_train))\n",
    "print(np.bincount(y_test))"
   ]
  },
  {
   "cell_type": "code",
   "execution_count": 92,
   "metadata": {},
   "outputs": [],
   "source": [
    "c_vec = np.linspace(0.0001,0.1, 100)"
   ]
  },
  {
   "cell_type": "code",
   "execution_count": 93,
   "metadata": {},
   "outputs": [],
   "source": [
    "acc = []\n",
    "for c in c_vec:\n",
    "    lr_clf = LogisticRegression(C = c, random_state=123456)\n",
    "    lr_clf.fit(X_train_std, y_train)\n",
    "    y_pred = lr_clf.predict(X_test_std)\n",
    "    acc.append(accuracy_score(y_pred, y_test))"
   ]
  },
  {
   "cell_type": "code",
   "execution_count": 94,
   "metadata": {},
   "outputs": [
    {
     "name": "stdout",
     "output_type": "stream",
     "text": [
      "[0 1]\n",
      "[0 1]\n"
     ]
    }
   ],
   "source": [
    "print(np.unique(y_test))\n",
    "print(np.unique(y_pred))"
   ]
  },
  {
   "cell_type": "code",
   "execution_count": 95,
   "metadata": {},
   "outputs": [
    {
     "data": {
      "text/plain": [
       "[<matplotlib.lines.Line2D at 0x7fb8d9f6c370>]"
      ]
     },
     "execution_count": 95,
     "metadata": {},
     "output_type": "execute_result"
    },
    {
     "data": {
      "image/png": "[encoded data removed]",
      "text/plain": [
       "<Figure size 432x288 with 1 Axes>"
      ]
     },
     "metadata": {
      "needs_background": "light"
     },
     "output_type": "display_data"
    }
   ],
   "source": [
    "plt.plot(c_vec, acc)"
   ]
  },
  {
   "cell_type": "code",
   "execution_count": 96,
   "metadata": {},
   "outputs": [
    {
     "name": "stdout",
     "output_type": "stream",
     "text": [
      "Accuracy: 50.00 %\n"
     ]
    }
   ],
   "source": [
    "finC = 0.012\n",
    "fin_clf = LogisticRegression(C = finC, random_state=123456)\n",
    "fin_clf.fit(X_train_std, y_train)\n",
    "y_pred = fin_clf.predict(X_test_std)\n",
    "print('Accuracy: %.2f' % np.round(accuracy_score(y_pred, y_test)*100,2), '%')"
   ]
  },
  {
   "cell_type": "code",
   "execution_count": 97,
   "metadata": {},
   "outputs": [
    {
     "data": {
      "text/plain": [
       "array([0, 0, 0, 0, 0, 0, 0, 0, 0, 0, 0, 0, 0, 0, 0, 0, 0, 0, 0, 0, 0, 0,\n",
       "       0, 0, 0, 0, 0, 0, 0, 0, 0, 0, 0, 0, 0, 0])"
      ]
     },
     "execution_count": 97,
     "metadata": {},
     "output_type": "execute_result"
    }
   ],
   "source": [
    "y_pred"
   ]
  },
  {
   "cell_type": "markdown",
   "metadata": {},
   "source": [
    "Se maximiza la predicción, pero todas las predicciones se realizan en cero,lo cual obedece a un problema de calibración en el modelo... No se toma la medida adecuada para medir el desempeño del modelo."
   ]
  },
  {
   "cell_type": "code",
   "execution_count": 98,
   "metadata": {},
   "outputs": [
    {
     "name": "stdout",
     "output_type": "stream",
     "text": [
      "[0]\n"
     ]
    }
   ],
   "source": [
    "print(np.unique(y_pred))"
   ]
  },
  {
   "cell_type": "code",
   "execution_count": 99,
   "metadata": {},
   "outputs": [
    {
     "data": {
      "text/html": [
       "<div>\n",
       "<style scoped>\n",
       "    .dataframe tbody tr th:only-of-type {\n",
       "        vertical-align: middle;\n",
       "    }\n",
       "\n",
       "    .dataframe tbody tr th {\n",
       "        vertical-align: top;\n",
       "    }\n",
       "\n",
       "    .dataframe thead th {\n",
       "        text-align: right;\n",
       "    }\n",
       "</style>\n",
       "<table border=\"1\" class=\"dataframe\">\n",
       "  <thead>\n",
       "    <tr style=\"text-align: right;\">\n",
       "      <th>col_0</th>\n",
       "      <th>row_0</th>\n",
       "      <th>0</th>\n",
       "      <th>1</th>\n",
       "    </tr>\n",
       "  </thead>\n",
       "  <tbody>\n",
       "    <tr>\n",
       "      <th>0</th>\n",
       "      <td>0</td>\n",
       "      <td>18</td>\n",
       "      <td>18</td>\n",
       "    </tr>\n",
       "  </tbody>\n",
       "</table>\n",
       "</div>"
      ],
      "text/plain": [
       "col_0  row_0   0   1\n",
       "0          0  18  18"
      ]
     },
     "execution_count": 99,
     "metadata": {},
     "output_type": "execute_result"
    }
   ],
   "source": [
    "pd.crosstab(y_pred, y_test).reset_index()"
   ]
  },
  {
   "cell_type": "code",
   "execution_count": 100,
   "metadata": {},
   "outputs": [],
   "source": [
    "X_combin = np.vstack((X_train_std, X_test_std))\n",
    "y_combin = np.hstack((y_train, y_test))"
   ]
  },
  {
   "cell_type": "code",
   "execution_count": 101,
   "metadata": {},
   "outputs": [],
   "source": [
    "clase = pd.concat([pd.DataFrame(X_combin, columns = ['med1', 'med2']), pd.DataFrame(dict(clase = y_combin))],axis = 1).groupby('clase')\n",
    "label = ['Positivo', 'Negativo']"
   ]
  },
  {
   "cell_type": "code",
   "execution_count": 102,
   "metadata": {},
   "outputs": [
    {
     "data": {
      "text/plain": [
       "<matplotlib.legend.Legend at 0x7fb8da09c520>"
      ]
     },
     "execution_count": 102,
     "metadata": {},
     "output_type": "execute_result"
    },
    {
     "data": {
      "image/png": "[encoded data removed]",
      "text/plain": [
       "<Figure size 432x288 with 1 Axes>"
      ]
     },
     "metadata": {
      "needs_background": "light"
     },
     "output_type": "display_data"
    }
   ],
   "source": [
    "colo = ['blue', 'orange']\n",
    "fig, ax = plt.subplots()\n",
    "plot_boundary_cal(fin_clf, X_combin, grid_step=.01)\n",
    "for nombre, group in clase:\n",
    "    ax.plot(group.med1, group.med2, marker='o', linestyle='', ms=6, label=label[nombre], c = colo[nombre])\n",
    "ax.scatter(X_test_std[:,0], X_test_std[:,1],\n",
    "            c='', edgecolor='black', alpha=1.0,\n",
    "            linewidth=1, marker='o',\n",
    "            s=100, label='Datos Validación')\n",
    "plt.xlabel(\"med1\")\n",
    "plt.ylabel(\"med2\")\n",
    "plt.title('Regresión Logística con regularización C=%s' % finC)\n",
    "ax.legend(loc = 0)"
   ]
  },
  {
   "cell_type": "markdown",
   "metadata": {},
   "source": [
    "## Uso de otras medidas de desempeño para clasificación"
   ]
  },
  {
   "cell_type": "code",
   "execution_count": 43,
   "metadata": {},
   "outputs": [],
   "source": [
    "## Precisión de la clasificación por scikit-learn\n",
    "from sklearn.metrics import log_loss, roc_auc_score"
   ]
  },
  {
   "cell_type": "code",
   "execution_count": 103,
   "metadata": {},
   "outputs": [],
   "source": [
    "c_vec = np.linspace(0.1,0.5, 100)\n",
    "acc = []\n",
    "auc= []\n",
    "for c in c_vec:\n",
    "    lr_clf = LogisticRegression(C = c, random_state=123456)\n",
    "    lr_clf.fit(X_train_std, y_train)\n",
    "    y_pred = lr_clf.predict(X_test_std)\n",
    "    acc.append(log_loss(y_pred, y_test))\n",
    "    auc.append(roc_auc_score(y_pred, y_test))"
   ]
  },
  {
   "cell_type": "code",
   "execution_count": 104,
   "metadata": {},
   "outputs": [
    {
     "data": {
      "text/plain": [
       "[<matplotlib.lines.Line2D at 0x7fb8da73d0d0>]"
      ]
     },
     "execution_count": 104,
     "metadata": {},
     "output_type": "execute_result"
    },
    {
     "data": {
      "image/png": "[encoded data removed]",
      "text/plain": [
       "<Figure size 432x288 with 1 Axes>"
      ]
     },
     "metadata": {
      "needs_background": "light"
     },
     "output_type": "display_data"
    }
   ],
   "source": [
    "## Gráfica de Calibración parámetro C según Los_loss\n",
    "plt.plot(c_vec, acc)"
   ]
  },
  {
   "cell_type": "code",
   "execution_count": 46,
   "metadata": {},
   "outputs": [
    {
     "data": {
      "text/plain": [
       "0.11212121212121212"
      ]
     },
     "execution_count": 46,
     "metadata": {},
     "output_type": "execute_result"
    }
   ],
   "source": [
    "c_vec[np.argmax(acc)]"
   ]
  },
  {
   "cell_type": "code",
   "execution_count": 47,
   "metadata": {},
   "outputs": [
    {
     "data": {
      "text/plain": [
       "[<matplotlib.lines.Line2D at 0x7fb8da28a1c0>]"
      ]
     },
     "execution_count": 47,
     "metadata": {},
     "output_type": "execute_result"
    },
    {
     "data": {
      "image/png": "[encoded data removed]",
      "text/plain": [
       "<Figure size 432x288 with 1 Axes>"
      ]
     },
     "metadata": {
      "needs_background": "light"
     },
     "output_type": "display_data"
    }
   ],
   "source": [
    "## Gráfica de Calibración parámetro C según Curva ROC (AUC)\n",
    "plt.plot(c_vec, auc)"
   ]
  },
  {
   "cell_type": "code",
   "execution_count": 48,
   "metadata": {},
   "outputs": [
    {
     "data": {
      "text/plain": [
       "0.1"
      ]
     },
     "execution_count": 48,
     "metadata": {},
     "output_type": "execute_result"
    }
   ],
   "source": [
    "c_vec[np.argmax(auc)]"
   ]
  },
  {
   "cell_type": "code",
   "execution_count": 105,
   "metadata": {},
   "outputs": [
    {
     "name": "stdout",
     "output_type": "stream",
     "text": [
      "Accuracy: 38.89 %\n"
     ]
    }
   ],
   "source": [
    "finC = c_vec[np.argmax(acc)]\n",
    "finROC = c_vec[np.argmax(auc)]\n",
    "fin_clf = LogisticRegression(C = finC, random_state=123456)\n",
    "fin_clf.fit(X_train_std, y_train)\n",
    "y_pred = fin_clf.predict(X_test_std)\n",
    "print('Accuracy: %.2f' % np.round(accuracy_score(y_pred, y_test)*100,2), '%')"
   ]
  },
  {
   "cell_type": "code",
   "execution_count": 106,
   "metadata": {},
   "outputs": [
    {
     "name": "stdout",
     "output_type": "stream",
     "text": [
      "AUC: 0.47\n"
     ]
    },
    {
     "data": {
      "image/png": "[encoded data removed]",
      "text/plain": [
       "<Figure size 432x288 with 1 Axes>"
      ]
     },
     "metadata": {
      "needs_background": "light"
     },
     "output_type": "display_data"
    }
   ],
   "source": [
    "### Graficando Curva ROC\n",
    "# importar funciones\n",
    "from sklearn.metrics import roc_curve\n",
    "from sklearn.metrics import roc_auc_score\n",
    "\n",
    "# predecir las probabilidades para el hold-out\n",
    "probs = fin_clf.predict_proba(X_test_std)\n",
    "# Mantener las probabilidades de la clase positiva (1)\n",
    "probs = probs[:, 1]\n",
    "# Calcular el AUC (Área bajo la curva ROC)\n",
    "auc = roc_auc_score(y_test, probs)\n",
    "print('AUC: %.2f' % auc)\n",
    "# Obtener la curva ROC\n",
    "fpr, tpr, umbral = roc_curve(y_test, probs)\n",
    "# Graficar la curva ROC\n",
    "plt.plot(fpr, tpr, color='orange', label='ROC')\n",
    "plt.plot([0, 1], [0, 1], color='darkblue', linestyle='--')\n",
    "plt.xlabel('False Positive Rate')\n",
    "plt.ylabel('True Positive Rate')\n",
    "plt.title('Curva ROC (Receiver Operating Characteristic)')\n",
    "plt.legend()\n",
    "plt.show()"
   ]
  },
  {
   "cell_type": "code",
   "execution_count": 107,
   "metadata": {},
   "outputs": [
    {
     "data": {
      "text/plain": [
       "<matplotlib.legend.Legend at 0x7fb8da2514c0>"
      ]
     },
     "execution_count": 107,
     "metadata": {},
     "output_type": "execute_result"
    },
    {
     "data": {
      "image/png": "[encoded data removed]",
      "text/plain": [
       "<Figure size 432x288 with 1 Axes>"
      ]
     },
     "metadata": {
      "needs_background": "light"
     },
     "output_type": "display_data"
    }
   ],
   "source": [
    "colo = ['blue', 'orange']\n",
    "fig, ax = plt.subplots()\n",
    "plot_boundary_cal(fin_clf, X_combin, grid_step=.01)\n",
    "for nombre, group in clase:\n",
    "    ax.plot(group.med1, group.med2, marker='o', linestyle='', ms=6, label=label[nombre], c = colo[nombre])\n",
    "ax.scatter(X_test_std[:,0], X_test_std[:,1],\n",
    "            c='', edgecolor='black', alpha=1.0,\n",
    "            linewidth=1, marker='o',\n",
    "            s=100, label='Datos Validación')\n",
    "plt.xlabel(\"med1\")\n",
    "plt.ylabel(\"med2\")\n",
    "plt.title('Regresión Logística con regularización C=%s' % finC)\n",
    "ax.legend(loc = 0)"
   ]
  },
  {
   "cell_type": "markdown",
   "metadata": {},
   "source": [
    "+ El modelo anterior con *log-loss*, clasifica 14 datos de validación de manera correcta: $\\frac{14}{36}=0.3889$\n",
    "+ El modelo anterior con *AUC*, clasifica 15 datos de validación de manera correcta: $\\frac{15}{36}=0.4167$"
   ]
  },
  {
   "cell_type": "markdown",
   "metadata": {},
   "source": [
    "### **RETO**:\n",
    "1. Construir el código que calibre el parámetro **d** del modelo.\n",
    "2. Construir el código que calibre el parámetro **d y c** del modelo."
   ]
  },
  {
   "cell_type": "markdown",
   "metadata": {},
   "source": [
    "# K-Nearest Classifier"
   ]
  },
  {
   "cell_type": "code",
   "execution_count": 6,
   "metadata": {},
   "outputs": [],
   "source": [
    "### importar las librerías\n",
    "from sklearn import neighbors, model_selection\n",
    "from sklearn.preprocessing import StandardScaler\n",
    "from sklearn.metrics import log_loss, roc_auc_score, make_scorer\n",
    "from sklearn.model_selection import GridSearchCV\n",
    "import pandas as pd"
   ]
  },
  {
   "cell_type": "code",
   "execution_count": 7,
   "metadata": {},
   "outputs": [
    {
     "data": {
      "text/html": [
       "<div>\n",
       "<style scoped>\n",
       "    .dataframe tbody tr th:only-of-type {\n",
       "        vertical-align: middle;\n",
       "    }\n",
       "\n",
       "    .dataframe tbody tr th {\n",
       "        vertical-align: top;\n",
       "    }\n",
       "\n",
       "    .dataframe thead th {\n",
       "        text-align: right;\n",
       "    }\n",
       "</style>\n",
       "<table border=\"1\" class=\"dataframe\">\n",
       "  <thead>\n",
       "    <tr style=\"text-align: right;\">\n",
       "      <th></th>\n",
       "      <th>med1</th>\n",
       "      <th>med2</th>\n",
       "      <th>clase</th>\n",
       "    </tr>\n",
       "  </thead>\n",
       "  <tbody>\n",
       "    <tr>\n",
       "      <th>0</th>\n",
       "      <td>0.051267</td>\n",
       "      <td>0.69956</td>\n",
       "      <td>1</td>\n",
       "    </tr>\n",
       "    <tr>\n",
       "      <th>1</th>\n",
       "      <td>-0.092742</td>\n",
       "      <td>0.68494</td>\n",
       "      <td>1</td>\n",
       "    </tr>\n",
       "    <tr>\n",
       "      <th>2</th>\n",
       "      <td>-0.213710</td>\n",
       "      <td>0.69225</td>\n",
       "      <td>1</td>\n",
       "    </tr>\n",
       "    <tr>\n",
       "      <th>3</th>\n",
       "      <td>-0.375000</td>\n",
       "      <td>0.50219</td>\n",
       "      <td>1</td>\n",
       "    </tr>\n",
       "    <tr>\n",
       "      <th>4</th>\n",
       "      <td>-0.513250</td>\n",
       "      <td>0.46564</td>\n",
       "      <td>1</td>\n",
       "    </tr>\n",
       "  </tbody>\n",
       "</table>\n",
       "</div>"
      ],
      "text/plain": [
       "       med1     med2  clase\n",
       "0  0.051267  0.69956      1\n",
       "1 -0.092742  0.68494      1\n",
       "2 -0.213710  0.69225      1\n",
       "3 -0.375000  0.50219      1\n",
       "4 -0.513250  0.46564      1"
      ]
     },
     "execution_count": 7,
     "metadata": {},
     "output_type": "execute_result"
    }
   ],
   "source": [
    "datos.head()"
   ]
  },
  {
   "cell_type": "code",
   "execution_count": 8,
   "metadata": {},
   "outputs": [
    {
     "data": {
      "text/html": [
       "<div>\n",
       "<style scoped>\n",
       "    .dataframe tbody tr th:only-of-type {\n",
       "        vertical-align: middle;\n",
       "    }\n",
       "\n",
       "    .dataframe tbody tr th {\n",
       "        vertical-align: top;\n",
       "    }\n",
       "\n",
       "    .dataframe thead th {\n",
       "        text-align: right;\n",
       "    }\n",
       "</style>\n",
       "<table border=\"1\" class=\"dataframe\">\n",
       "  <thead>\n",
       "    <tr style=\"text-align: right;\">\n",
       "      <th></th>\n",
       "      <th>med1</th>\n",
       "      <th>med2</th>\n",
       "    </tr>\n",
       "  </thead>\n",
       "  <tbody>\n",
       "    <tr>\n",
       "      <th>0</th>\n",
       "      <td>0.051267</td>\n",
       "      <td>0.69956</td>\n",
       "    </tr>\n",
       "    <tr>\n",
       "      <th>1</th>\n",
       "      <td>-0.092742</td>\n",
       "      <td>0.68494</td>\n",
       "    </tr>\n",
       "    <tr>\n",
       "      <th>2</th>\n",
       "      <td>-0.213710</td>\n",
       "      <td>0.69225</td>\n",
       "    </tr>\n",
       "    <tr>\n",
       "      <th>3</th>\n",
       "      <td>-0.375000</td>\n",
       "      <td>0.50219</td>\n",
       "    </tr>\n",
       "    <tr>\n",
       "      <th>4</th>\n",
       "      <td>-0.513250</td>\n",
       "      <td>0.46564</td>\n",
       "    </tr>\n",
       "  </tbody>\n",
       "</table>\n",
       "</div>"
      ],
      "text/plain": [
       "       med1     med2\n",
       "0  0.051267  0.69956\n",
       "1 -0.092742  0.68494\n",
       "2 -0.213710  0.69225\n",
       "3 -0.375000  0.50219\n",
       "4 -0.513250  0.46564"
      ]
     },
     "execution_count": 8,
     "metadata": {},
     "output_type": "execute_result"
    }
   ],
   "source": [
    "X.head()"
   ]
  },
  {
   "cell_type": "code",
   "execution_count": 9,
   "metadata": {},
   "outputs": [
    {
     "data": {
      "text/plain": [
       "array([1, 1, 1, 1, 1, 1])"
      ]
     },
     "execution_count": 9,
     "metadata": {},
     "output_type": "execute_result"
    }
   ],
   "source": [
    "y[:6]"
   ]
  },
  {
   "cell_type": "code",
   "execution_count": 10,
   "metadata": {},
   "outputs": [],
   "source": [
    "#### Estrategia de hold-out para Validación Cruzada\n",
    "X_train, X_test, y_train, y_test = model_selection.train_test_split(X, y, test_size = 0.3, random_state=123456, stratify=y)"
   ]
  },
  {
   "cell_type": "code",
   "execution_count": 11,
   "metadata": {},
   "outputs": [
    {
     "data": {
      "text/plain": [
       "(36,)"
      ]
     },
     "execution_count": 11,
     "metadata": {},
     "output_type": "execute_result"
    }
   ],
   "source": [
    "y_test.shape"
   ]
  },
  {
   "cell_type": "code",
   "execution_count": 12,
   "metadata": {},
   "outputs": [],
   "source": [
    "### Estandarizar los datos para usar el algoritmo basado en distancias\n",
    "sc = StandardScaler()\n",
    "sc.fit(X_train)\n",
    "X_train_std = sc.transform(X_train)"
   ]
  },
  {
   "cell_type": "code",
   "execution_count": 13,
   "metadata": {},
   "outputs": [],
   "source": [
    "X_test_std = sc.transform(X_test)"
   ]
  },
  {
   "cell_type": "code",
   "execution_count": 14,
   "metadata": {},
   "outputs": [
    {
     "data": {
      "text/plain": [
       "0.06827793314616477"
      ]
     },
     "execution_count": 14,
     "metadata": {},
     "output_type": "execute_result"
    }
   ],
   "source": [
    "X_test_std[:,1].mean()"
   ]
  },
  {
   "cell_type": "code",
   "execution_count": 38,
   "metadata": {},
   "outputs": [
    {
     "data": {
      "application/vnd.jupyter.widget-view+json": {
       "model_id": "87423b338e25483097eb48372f8e934c",
       "version_major": 2,
       "version_minor": 0
      },
      "text/plain": [
       "interactive(children=(FloatSlider(value=20.0, description='k', max=50.0, min=1.0, readout_format='.1f', step=1…"
      ]
     },
     "metadata": {},
     "output_type": "display_data"
    },
    {
     "data": {
      "text/plain": [
       "<function __main__.knnSim(k)>"
      ]
     },
     "execution_count": 38,
     "metadata": {},
     "output_type": "execute_result"
    }
   ],
   "source": [
    "%matplotlib inline\n",
    "from ipywidgets import *\n",
    "\n",
    "def knnSim(k):\n",
    "    knn_cla = neighbors.KNeighborsClassifier(n_neighbors=int(k))\n",
    "    knn_fit = knn_cla.fit(X_train, y_train)\n",
    "    knn_predict = knn_fit.predict(X_train)\n",
    "    print('AUC: %.2f' % np.round(roc_auc_score(knn_predict, y_train)*100,2), '%')\n",
    "    plot_boundary_cal(knn_fit, X_train.values, grid_step=.01)\n",
    "    plt.scatter(X_train.values[y_train == 1,0], X_train.values[y_train == 1,1], c='orange', label='Positivo')\n",
    "    plt.scatter(X_train.values[y_train == 0,0], X_train.values[y_train == 0,1], c='blue', label='Negativo')\n",
    "    plt.xlabel(\"med1\")\n",
    "    plt.ylabel(\"med2\")\n",
    "    plt.legend()\n",
    "\n",
    "interact(knnSim, k = widgets.FloatSlider(value=20, min=1, max=50, step=1, readout_format='.1f'))"
   ]
  },
  {
   "cell_type": "code",
   "execution_count": 15,
   "metadata": {},
   "outputs": [],
   "source": [
    "##### Entrenar el algoritmo\n",
    "\n",
    "#1. Inicializar el clasificador\n",
    "knn_clas = neighbors.KNeighborsClassifier()"
   ]
  },
  {
   "cell_type": "code",
   "execution_count": 16,
   "metadata": {},
   "outputs": [],
   "source": [
    "#2. Definir las metricas de desempeño\n",
    "acc_scorer = make_scorer(roc_auc_score, greater_is_better=True)"
   ]
  },
  {
   "cell_type": "code",
   "execution_count": 17,
   "metadata": {},
   "outputs": [],
   "source": [
    "#3. La grilla de los parámetros de validación cruzada\n",
    "param = {'n_neighbors': np.arange(1,20)}"
   ]
  },
  {
   "cell_type": "code",
   "execution_count": 18,
   "metadata": {},
   "outputs": [],
   "source": [
    "#4. Inicializar la grilla de validación cruzada\n",
    "n_folds = 5 ### k-fold CV\n",
    "\n",
    "grid_obj = GridSearchCV(estimator = knn_clas, param_grid = param, scoring = acc_scorer,\n",
    "                       n_jobs = -1, cv = n_folds, return_train_score = True)"
   ]
  },
  {
   "cell_type": "code",
   "execution_count": 19,
   "metadata": {},
   "outputs": [
    {
     "data": {
      "text/plain": [
       "GridSearchCV(cv=5, estimator=KNeighborsClassifier(), n_jobs=-1,\n",
       "             param_grid={'n_neighbors': array([ 1,  2,  3,  4,  5,  6,  7,  8,  9, 10, 11, 12, 13, 14, 15, 16, 17,\n",
       "       18, 19])},\n",
       "             return_train_score=True, scoring=make_scorer(roc_auc_score))"
      ]
     },
     "execution_count": 19,
     "metadata": {},
     "output_type": "execute_result"
    }
   ],
   "source": [
    "grid_obj"
   ]
  },
  {
   "cell_type": "code",
   "execution_count": 20,
   "metadata": {},
   "outputs": [],
   "source": [
    "#5. Ajustar a los datos\n",
    "knnFit = grid_obj.fit(X_train_std, y_train)"
   ]
  },
  {
   "cell_type": "code",
   "execution_count": 21,
   "metadata": {},
   "outputs": [],
   "source": [
    "#6. Extraer los resultados\n",
    "res = pd.DataFrame(grid_obj.cv_results_)"
   ]
  },
  {
   "cell_type": "code",
   "execution_count": 22,
   "metadata": {},
   "outputs": [
    {
     "data": {
      "text/html": [
       "<div>\n",
       "<style scoped>\n",
       "    .dataframe tbody tr th:only-of-type {\n",
       "        vertical-align: middle;\n",
       "    }\n",
       "\n",
       "    .dataframe tbody tr th {\n",
       "        vertical-align: top;\n",
       "    }\n",
       "\n",
       "    .dataframe thead th {\n",
       "        text-align: right;\n",
       "    }\n",
       "</style>\n",
       "<table border=\"1\" class=\"dataframe\">\n",
       "  <thead>\n",
       "    <tr style=\"text-align: right;\">\n",
       "      <th></th>\n",
       "      <th>mean_fit_time</th>\n",
       "      <th>std_fit_time</th>\n",
       "      <th>mean_score_time</th>\n",
       "      <th>std_score_time</th>\n",
       "      <th>param_n_neighbors</th>\n",
       "      <th>params</th>\n",
       "      <th>split0_test_score</th>\n",
       "      <th>split1_test_score</th>\n",
       "      <th>split2_test_score</th>\n",
       "      <th>split3_test_score</th>\n",
       "      <th>...</th>\n",
       "      <th>mean_test_score</th>\n",
       "      <th>std_test_score</th>\n",
       "      <th>rank_test_score</th>\n",
       "      <th>split0_train_score</th>\n",
       "      <th>split1_train_score</th>\n",
       "      <th>split2_train_score</th>\n",
       "      <th>split3_train_score</th>\n",
       "      <th>split4_train_score</th>\n",
       "      <th>mean_train_score</th>\n",
       "      <th>std_train_score</th>\n",
       "    </tr>\n",
       "  </thead>\n",
       "  <tbody>\n",
       "    <tr>\n",
       "      <th>0</th>\n",
       "      <td>0.001504</td>\n",
       "      <td>0.000253</td>\n",
       "      <td>0.008281</td>\n",
       "      <td>0.004640</td>\n",
       "      <td>1</td>\n",
       "      <td>{'n_neighbors': 1}</td>\n",
       "      <td>0.597222</td>\n",
       "      <td>0.770833</td>\n",
       "      <td>0.4375</td>\n",
       "      <td>0.5625</td>\n",
       "      <td>...</td>\n",
       "      <td>0.586111</td>\n",
       "      <td>0.107188</td>\n",
       "      <td>6</td>\n",
       "      <td>1.000000</td>\n",
       "      <td>1.000000</td>\n",
       "      <td>1.000000</td>\n",
       "      <td>1.000000</td>\n",
       "      <td>1.000000</td>\n",
       "      <td>1.000000</td>\n",
       "      <td>0.000000</td>\n",
       "    </tr>\n",
       "    <tr>\n",
       "      <th>1</th>\n",
       "      <td>0.001364</td>\n",
       "      <td>0.000409</td>\n",
       "      <td>0.007114</td>\n",
       "      <td>0.003944</td>\n",
       "      <td>2</td>\n",
       "      <td>{'n_neighbors': 2}</td>\n",
       "      <td>0.465278</td>\n",
       "      <td>0.576389</td>\n",
       "      <td>0.5625</td>\n",
       "      <td>0.6250</td>\n",
       "      <td>...</td>\n",
       "      <td>0.570833</td>\n",
       "      <td>0.058498</td>\n",
       "      <td>9</td>\n",
       "      <td>0.812500</td>\n",
       "      <td>0.734375</td>\n",
       "      <td>0.828125</td>\n",
       "      <td>0.796875</td>\n",
       "      <td>0.765625</td>\n",
       "      <td>0.787500</td>\n",
       "      <td>0.033657</td>\n",
       "    </tr>\n",
       "    <tr>\n",
       "      <th>2</th>\n",
       "      <td>0.002882</td>\n",
       "      <td>0.003479</td>\n",
       "      <td>0.004415</td>\n",
       "      <td>0.000134</td>\n",
       "      <td>3</td>\n",
       "      <td>{'n_neighbors': 3}</td>\n",
       "      <td>0.597222</td>\n",
       "      <td>0.826389</td>\n",
       "      <td>0.6875</td>\n",
       "      <td>0.6250</td>\n",
       "      <td>...</td>\n",
       "      <td>0.622222</td>\n",
       "      <td>0.146763</td>\n",
       "      <td>2</td>\n",
       "      <td>0.846591</td>\n",
       "      <td>0.800189</td>\n",
       "      <td>0.851103</td>\n",
       "      <td>0.774816</td>\n",
       "      <td>0.849265</td>\n",
       "      <td>0.824393</td>\n",
       "      <td>0.031204</td>\n",
       "    </tr>\n",
       "    <tr>\n",
       "      <th>3</th>\n",
       "      <td>0.001150</td>\n",
       "      <td>0.000013</td>\n",
       "      <td>0.008041</td>\n",
       "      <td>0.004662</td>\n",
       "      <td>4</td>\n",
       "      <td>{'n_neighbors': 4}</td>\n",
       "      <td>0.590278</td>\n",
       "      <td>0.631944</td>\n",
       "      <td>0.7500</td>\n",
       "      <td>0.5625</td>\n",
       "      <td>...</td>\n",
       "      <td>0.619444</td>\n",
       "      <td>0.070053</td>\n",
       "      <td>4</td>\n",
       "      <td>0.814394</td>\n",
       "      <td>0.798295</td>\n",
       "      <td>0.786765</td>\n",
       "      <td>0.800551</td>\n",
       "      <td>0.801471</td>\n",
       "      <td>0.800295</td>\n",
       "      <td>0.008801</td>\n",
       "    </tr>\n",
       "    <tr>\n",
       "      <th>4</th>\n",
       "      <td>0.001180</td>\n",
       "      <td>0.000033</td>\n",
       "      <td>0.007698</td>\n",
       "      <td>0.006097</td>\n",
       "      <td>5</td>\n",
       "      <td>{'n_neighbors': 5}</td>\n",
       "      <td>0.604167</td>\n",
       "      <td>0.708333</td>\n",
       "      <td>0.7500</td>\n",
       "      <td>0.6250</td>\n",
       "      <td>...</td>\n",
       "      <td>0.625000</td>\n",
       "      <td>0.107851</td>\n",
       "      <td>1</td>\n",
       "      <td>0.831913</td>\n",
       "      <td>0.769413</td>\n",
       "      <td>0.805147</td>\n",
       "      <td>0.774816</td>\n",
       "      <td>0.819853</td>\n",
       "      <td>0.800228</td>\n",
       "      <td>0.024530</td>\n",
       "    </tr>\n",
       "  </tbody>\n",
       "</table>\n",
       "<p>5 rows × 21 columns</p>\n",
       "</div>"
      ],
      "text/plain": [
       "   mean_fit_time  std_fit_time  mean_score_time  std_score_time  \\\n",
       "0       0.001504      0.000253         0.008281        0.004640   \n",
       "1       0.001364      0.000409         0.007114        0.003944   \n",
       "2       0.002882      0.003479         0.004415        0.000134   \n",
       "3       0.001150      0.000013         0.008041        0.004662   \n",
       "4       0.001180      0.000033         0.007698        0.006097   \n",
       "\n",
       "  param_n_neighbors              params  split0_test_score  split1_test_score  \\\n",
       "0                 1  {'n_neighbors': 1}           0.597222           0.770833   \n",
       "1                 2  {'n_neighbors': 2}           0.465278           0.576389   \n",
       "2                 3  {'n_neighbors': 3}           0.597222           0.826389   \n",
       "3                 4  {'n_neighbors': 4}           0.590278           0.631944   \n",
       "4                 5  {'n_neighbors': 5}           0.604167           0.708333   \n",
       "\n",
       "   split2_test_score  split3_test_score  ...  mean_test_score  std_test_score  \\\n",
       "0             0.4375             0.5625  ...         0.586111        0.107188   \n",
       "1             0.5625             0.6250  ...         0.570833        0.058498   \n",
       "2             0.6875             0.6250  ...         0.622222        0.146763   \n",
       "3             0.7500             0.5625  ...         0.619444        0.070053   \n",
       "4             0.7500             0.6250  ...         0.625000        0.107851   \n",
       "\n",
       "   rank_test_score  split0_train_score  split1_train_score  \\\n",
       "0                6            1.000000            1.000000   \n",
       "1                9            0.812500            0.734375   \n",
       "2                2            0.846591            0.800189   \n",
       "3                4            0.814394            0.798295   \n",
       "4                1            0.831913            0.769413   \n",
       "\n",
       "   split2_train_score  split3_train_score  split4_train_score  \\\n",
       "0            1.000000            1.000000            1.000000   \n",
       "1            0.828125            0.796875            0.765625   \n",
       "2            0.851103            0.774816            0.849265   \n",
       "3            0.786765            0.800551            0.801471   \n",
       "4            0.805147            0.774816            0.819853   \n",
       "\n",
       "   mean_train_score  std_train_score  \n",
       "0          1.000000         0.000000  \n",
       "1          0.787500         0.033657  \n",
       "2          0.824393         0.031204  \n",
       "3          0.800295         0.008801  \n",
       "4          0.800228         0.024530  \n",
       "\n",
       "[5 rows x 21 columns]"
      ]
     },
     "execution_count": 22,
     "metadata": {},
     "output_type": "execute_result"
    }
   ],
   "source": [
    "res.head()"
   ]
  },
  {
   "cell_type": "code",
   "execution_count": 23,
   "metadata": {},
   "outputs": [],
   "source": [
    "#7. Best Alg\n",
    "bestK = knnFit.best_params_"
   ]
  },
  {
   "cell_type": "code",
   "execution_count": 24,
   "metadata": {},
   "outputs": [
    {
     "data": {
      "text/plain": [
       "{'n_neighbors': 5}"
      ]
     },
     "execution_count": 24,
     "metadata": {},
     "output_type": "execute_result"
    }
   ],
   "source": [
    "bestK"
   ]
  },
  {
   "cell_type": "code",
   "execution_count": 25,
   "metadata": {},
   "outputs": [],
   "source": [
    "best2 = knnFit.best_estimator_"
   ]
  },
  {
   "cell_type": "code",
   "execution_count": 26,
   "metadata": {},
   "outputs": [
    {
     "data": {
      "text/plain": [
       "KNeighborsClassifier()"
      ]
     },
     "execution_count": 26,
     "metadata": {},
     "output_type": "execute_result"
    }
   ],
   "source": [
    "best2"
   ]
  },
  {
   "cell_type": "code",
   "execution_count": 27,
   "metadata": {},
   "outputs": [],
   "source": [
    "y_hat = best2.predict(X_test_std)"
   ]
  },
  {
   "cell_type": "code",
   "execution_count": 28,
   "metadata": {},
   "outputs": [
    {
     "data": {
      "text/plain": [
       "array([0, 0, 0, 0, 1, 1, 1, 1, 1, 1, 1, 0, 0, 1, 0, 0, 0, 0, 0, 1, 0, 0,\n",
       "       1, 1, 1, 1, 1, 1, 0, 1, 0, 1, 0, 1, 0, 0])"
      ]
     },
     "execution_count": 28,
     "metadata": {},
     "output_type": "execute_result"
    }
   ],
   "source": [
    "y_test"
   ]
  },
  {
   "cell_type": "code",
   "execution_count": 30,
   "metadata": {},
   "outputs": [
    {
     "name": "stdout",
     "output_type": "stream",
     "text": [
      "El área bajo la curva ROC es: 0.750\n"
     ]
    }
   ],
   "source": [
    "# Calcular el AUC (Área bajo la curva ROC)\n",
    "auc = roc_auc_score(y_test, y_hat)\n",
    "print('El área bajo la curva ROC es: %0.3f' % auc)"
   ]
  },
  {
   "cell_type": "code",
   "execution_count": 34,
   "metadata": {},
   "outputs": [
    {
     "data": {
      "image/png": "[encoded data removed]",
      "text/plain": [
       "<Figure size 1440x720 with 1 Axes>"
      ]
     },
     "metadata": {},
     "output_type": "display_data"
    }
   ],
   "source": [
    "### CURVA ROC\n",
    "# instalar\n",
    "# !pip install plot_metric\n",
    "from plot_metric.functions import BinaryClassification\n",
    "curva = BinaryClassification(y_test, y_hat, labels=[\"Clase 1\", \"Clase 0\"])\n",
    "\n",
    "# plot\n",
    "plt.figure(figsize=(20,10))\n",
    "curva.plot_roc_curve()\n",
    "plt.show()"
   ]
  }
 ],
 "metadata": {
  "kernelspec": {
   "display_name": "Python 3",
   "language": "python",
   "name": "python3"
  },
  "language_info": {
   "codemirror_mode": {
    "name": "ipython",
    "version": 3
   },
   "file_extension": ".py",
   "mimetype": "text/x-python",
   "name": "python",
   "nbconvert_exporter": "python",
   "pygments_lexer": "ipython3",
   "version": "3.8.5"
  }
 },
 "nbformat": 4,
 "nbformat_minor": 4
}
