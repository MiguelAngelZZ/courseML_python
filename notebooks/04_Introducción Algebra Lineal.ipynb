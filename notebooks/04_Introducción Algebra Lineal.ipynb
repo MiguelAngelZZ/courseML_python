{
 "cells": [
  {
   "cell_type": "markdown",
   "metadata": {},
   "source": [
    "## Introducción a Algebra Lineal con Python\n",
    "\n",
    "### Vectores\n",
    "\n",
    "El Algebra lineal se ocupa del estudio de los vectores. Sin perdida de generalidad, los vectores son listas finitas ordenadas de elementos, generalmente números. Estos, son el objeto matemático más fundamental en el aprendizaje de máquinas. Se usan para representar características de individuos: estrato, sexo, habilidad, etc. Se representan los vectores mediante una letra minúscula en negrita como **v** o como una letra minúscula con una flecha en la parte superior como $\\vec{v}$. \n",
    "\n",
    "Son un tipo de objeto matemático con el cual se pueden hacer operaciones elemento a elemento **para obtener otro vector** del mismo tipo. Por ejemplo, si se tiene el vector $x = salario$ y el vector $y = gastos$ entonces se pueden restar entre ellos para obtener un tercer vector de la forma $ z = x-y$. También se podría por ejemplo duplicar el vector **x** de la forma $2x$ con lo cual también se obtiene un vector.\n",
    "\n",
    "Un vector en $\\mathbb{R}^n$ corresponde a un conjunto de **números reales**. Por ejemplo, un vector en $\\mathbb{R}^3$ (3 dimensiones) toma la siguiente forma:\n",
    "\n",
    "$$\n",
    "\\bf{x}=\n",
    "\\begin{bmatrix}\n",
    "x_1 \\\\\n",
    "x_2 \\\\\n",
    "x_3\n",
    "\\end{bmatrix}\n",
    "\\in \\mathbb{R}^3\n",
    "$$\n",
    "\n",
    "Para este vector, se pueden realizar operaciones como:\n",
    "\n",
    "$$\n",
    "\\text{ADICIÓN} \\\\\n",
    "\\phantom{space}\\\\\n",
    "\\begin{bmatrix}\n",
    "1 \\\\\n",
    "2 \\\\\n",
    "3\n",
    "\\end{bmatrix} +\n",
    "\\begin{bmatrix}\n",
    "1 \\\\\n",
    "2 \\\\\n",
    "3\n",
    "\\end{bmatrix}=\n",
    "\\begin{bmatrix}\n",
    "2 \\\\\n",
    "4 \\\\\n",
    "6\n",
    "\\end{bmatrix}\\\\\n",
    "$$\n",
    "\n",
    "$$\n",
    "\\text{Y MULTIPLICACIÓN POR UN ESCALAR} \\\\\n",
    "\\phantom{space}\\\\\n",
    "5 \\times\n",
    "\\begin{bmatrix}\n",
    "1 \\\\\n",
    "2 \\\\\n",
    "3\n",
    "\\end{bmatrix} = \n",
    "\\begin{bmatrix}\n",
    "5 \\\\\n",
    "10 \\\\\n",
    "15\n",
    "\\end{bmatrix}\n",
    "$$\n",
    "\n",
    "En <code>Numpy</code> los vectores son representados como *arrays n-dimensionales*. Para crear un vector en $\\mathbb{R}^3$ se procede de la siguiente manera:"
   ]
  },
  {
   "cell_type": "code",
   "execution_count": 1,
   "metadata": {},
   "outputs": [],
   "source": [
    "## Numpy es una librería usada para realizar operaciones con vectores\n",
    "import numpy as np\n",
    "x = np.array([[2],\n",
    "              [4],\n",
    "              [5]])"
   ]
  },
  {
   "cell_type": "markdown",
   "metadata": {},
   "source": [
    "Se puede consultar la dimensión del vector:"
   ]
  },
  {
   "cell_type": "code",
   "execution_count": 2,
   "metadata": {},
   "outputs": [
    {
     "data": {
      "text/plain": [
       "(3, 1)"
      ]
     },
     "execution_count": 2,
     "metadata": {},
     "output_type": "execute_result"
    }
   ],
   "source": [
    "x.shape"
   ]
  },
  {
   "cell_type": "code",
   "execution_count": 3,
   "metadata": {},
   "outputs": [
    {
     "name": "stdout",
     "output_type": "stream",
     "text": [
      "x es un vector con 3 dimensiones\n"
     ]
    }
   ],
   "source": [
    "print('x es un vector con %s dimensiones' % (x.shape[0]))"
   ]
  },
  {
   "cell_type": "markdown",
   "metadata": {},
   "source": [
    "Los vectores pueden tener cualquier númerode dimensiones. Los más comunes son los vectores de 2-dimensiones en el plano cartesiano y 3-dimensiones en el espacio, no obstante, estos vectores son usados para propósitos ecucativos, ya que en ML lo usual es tener vectores n-dimensionales con $n>>>$.\n",
    "\n",
    "$$\\bf{x} = \n",
    "\\begin{bmatrix}\n",
    "x_1 \\\\ x_2 \\\\ \\vdots \\\\ x_n\n",
    "\\end{bmatrix}\n",
    "\\in \\mathbb{R}^n$$"
   ]
  },
  {
   "cell_type": "markdown",
   "metadata": {},
   "source": [
    "## Operaciones básicas entre vectores\n",
    "\n",
    "### Adición\n",
    "\n",
    "La suma de vectores es una operación que se realiza elemento a elemento para vectores de la misma dimensión, es decir,con el mismo número de elementos. Considere:\n",
    "\n",
    "$$\n",
    "\\bf{x} + \\bf{y} = \n",
    "\\begin{bmatrix}\n",
    "x_1\\\\\n",
    "\\vdots\\\\\n",
    "x_n\n",
    "\\end{bmatrix}+\n",
    "\\begin{bmatrix}\n",
    "y_1\\\\\n",
    "\\vdots\\\\\n",
    "y_n\n",
    "\\end{bmatrix} =\n",
    "\\begin{bmatrix}\n",
    "x_1 + y_1\\\\\n",
    "\\vdots\\\\\n",
    "x_n + y_n\n",
    "\\end{bmatrix}\n",
    "$$\n",
    "\n",
    "Por ejemplo:\n",
    "\n",
    "$$\n",
    "\\bf{x} + \\bf{y} = \n",
    "\\begin{bmatrix}\n",
    "3\\\\\n",
    "2\\\\\n",
    "5\n",
    "\\end{bmatrix}+\n",
    "\\begin{bmatrix}\n",
    "4\\\\\n",
    "4\\\\\n",
    "2\n",
    "\\end{bmatrix} =\n",
    "\\begin{bmatrix}\n",
    "3 + 4\\\\\n",
    "2 + 4\\\\\n",
    "5 + 2\n",
    "\\end{bmatrix} =\n",
    "\\begin{bmatrix}\n",
    "7\\\\\n",
    "6\\\\\n",
    "7\n",
    "\\end{bmatrix}\n",
    "$$"
   ]
  },
  {
   "cell_type": "markdown",
   "metadata": {},
   "source": [
    "La adición de vectores tiene una serie de propiedades fundamentales:\n",
    "\n",
    "* Conmutatividad: $x + y = y + x$"
   ]
  },
  {
   "cell_type": "code",
   "execution_count": 4,
   "metadata": {},
   "outputs": [],
   "source": [
    "x = np.array([[3],\n",
    "              [2],\n",
    "              [5]])\n",
    "y = np.array([[4],\n",
    "              [4],\n",
    "              [2]])"
   ]
  },
  {
   "cell_type": "code",
   "execution_count": 5,
   "metadata": {},
   "outputs": [
    {
     "data": {
      "text/plain": [
       "array([[7],\n",
       "       [6],\n",
       "       [7]])"
      ]
     },
     "execution_count": 5,
     "metadata": {},
     "output_type": "execute_result"
    }
   ],
   "source": [
    "x+y"
   ]
  },
  {
   "cell_type": "code",
   "execution_count": 6,
   "metadata": {},
   "outputs": [
    {
     "data": {
      "text/plain": [
       "array([[7],\n",
       "       [6],\n",
       "       [7]])"
      ]
     },
     "execution_count": 6,
     "metadata": {},
     "output_type": "execute_result"
    }
   ],
   "source": [
    "y+x"
   ]
  },
  {
   "cell_type": "code",
   "execution_count": 7,
   "metadata": {},
   "outputs": [
    {
     "data": {
      "text/plain": [
       "array([[ True],\n",
       "       [ True],\n",
       "       [ True]])"
      ]
     },
     "execution_count": 7,
     "metadata": {},
     "output_type": "execute_result"
    }
   ],
   "source": [
    "x+y == y+x"
   ]
  },
  {
   "cell_type": "code",
   "execution_count": 8,
   "metadata": {},
   "outputs": [
    {
     "data": {
      "text/plain": [
       "array([[7],\n",
       "       [6],\n",
       "       [7]])"
      ]
     },
     "execution_count": 8,
     "metadata": {},
     "output_type": "execute_result"
    }
   ],
   "source": [
    "np.add(x,y)"
   ]
  },
  {
   "cell_type": "markdown",
   "metadata": {},
   "source": [
    "### Multiplicación por un escalar\n",
    "\n",
    "Esta también es una operación elemento a elemento y está definida como:\n",
    "\n",
    "$$\n",
    "\\alpha \\bf{x} = \n",
    "\\begin{bmatrix}\n",
    "\\alpha \\bf{x_1}\\\\\n",
    "\\vdots \\\\\n",
    "\\alpha \\bf{x_n}\n",
    "\\end{bmatrix}\n",
    "$$\n",
    "\n",
    "Considere $\\alpha = 3$ y $x = [1,2,3]$:\n",
    "\n",
    "$$\n",
    "\\alpha \\bf{x} = \n",
    "\\begin{bmatrix}\n",
    "3 \\times 1\\\\\n",
    "3 \\times 2\\\\\n",
    "3 \\times 3\n",
    "\\end{bmatrix} = \n",
    "\\begin{bmatrix}\n",
    "3\\\\\n",
    "6\\\\\n",
    "9\n",
    "\\end{bmatrix}\n",
    "$$\n",
    "\n",
    "La multiplicación **vector-escalar** tiene las siguientes propiedades:\n",
    "\n",
    "* Asociatividad: $(\\alpha\\beta)X = \\alpha(\\beta X)$\n",
    "\n",
    "En <code>NumPy</code>, se calcula la multiplicación **vector-escalar** con el operador <code>*</code>:"
   ]
  },
  {
   "cell_type": "code",
   "execution_count": 9,
   "metadata": {},
   "outputs": [],
   "source": [
    "alpha = 2\n",
    "beta = 4\n",
    "x = np.array([[1],\n",
    "             [2],\n",
    "             [3]])"
   ]
  },
  {
   "cell_type": "code",
   "execution_count": 10,
   "metadata": {},
   "outputs": [
    {
     "data": {
      "text/plain": [
       "array([[ 8],\n",
       "       [16],\n",
       "       [24]])"
      ]
     },
     "execution_count": 10,
     "metadata": {},
     "output_type": "execute_result"
    }
   ],
   "source": [
    "(alpha*beta)*x"
   ]
  },
  {
   "cell_type": "code",
   "execution_count": 11,
   "metadata": {},
   "outputs": [
    {
     "data": {
      "text/plain": [
       "array([[ 8],\n",
       "       [16],\n",
       "       [24]])"
      ]
     },
     "execution_count": 11,
     "metadata": {},
     "output_type": "execute_result"
    }
   ],
   "source": [
    "alpha*(beta*x)"
   ]
  },
  {
   "cell_type": "markdown",
   "metadata": {},
   "source": [
    "* Propiedad de la distribución izquierda: $(\\alpha + \\beta) \\bf{x} = \\alpha \\bf{x} + \\beta \\bf{x}$"
   ]
  },
  {
   "cell_type": "code",
   "execution_count": 12,
   "metadata": {},
   "outputs": [
    {
     "data": {
      "text/plain": [
       "array([[ 6],\n",
       "       [12],\n",
       "       [18]])"
      ]
     },
     "execution_count": 12,
     "metadata": {},
     "output_type": "execute_result"
    }
   ],
   "source": [
    "(alpha + beta)*x"
   ]
  },
  {
   "cell_type": "code",
   "execution_count": 13,
   "metadata": {},
   "outputs": [
    {
     "data": {
      "text/plain": [
       "array([[ 6],\n",
       "       [12],\n",
       "       [18]])"
      ]
     },
     "execution_count": 13,
     "metadata": {},
     "output_type": "execute_result"
    }
   ],
   "source": [
    "alpha*x + beta*x"
   ]
  },
  {
   "cell_type": "markdown",
   "metadata": {},
   "source": [
    "* Propiedad de la distribución a la derecha: $\\bf{x}(\\alpha + \\beta) = \\bf{x}\\alpha + \\bf{x}\\beta$"
   ]
  },
  {
   "cell_type": "code",
   "execution_count": 14,
   "metadata": {},
   "outputs": [
    {
     "data": {
      "text/plain": [
       "array([[ 6],\n",
       "       [12],\n",
       "       [18]])"
      ]
     },
     "execution_count": 14,
     "metadata": {},
     "output_type": "execute_result"
    }
   ],
   "source": [
    "x*alpha + x*beta"
   ]
  },
  {
   "cell_type": "markdown",
   "metadata": {},
   "source": [
    "* Propiedad de la distribución para suma de vectores: $\\alpha (\\bf{x} + \\bf{y}) = \\alpha \\bf{x} + \\alpha \\bf{y}$"
   ]
  },
  {
   "cell_type": "code",
   "execution_count": 15,
   "metadata": {},
   "outputs": [
    {
     "data": {
      "text/plain": [
       "array([[10],\n",
       "       [12],\n",
       "       [10]])"
      ]
     },
     "execution_count": 15,
     "metadata": {},
     "output_type": "execute_result"
    }
   ],
   "source": [
    "alpha*(x+y)"
   ]
  },
  {
   "cell_type": "code",
   "execution_count": 16,
   "metadata": {},
   "outputs": [
    {
     "data": {
      "text/plain": [
       "array([[10],\n",
       "       [12],\n",
       "       [10]])"
      ]
     },
     "execution_count": 16,
     "metadata": {},
     "output_type": "execute_result"
    }
   ],
   "source": [
    "alpha*x + alpha*y"
   ]
  },
  {
   "cell_type": "markdown",
   "metadata": {},
   "source": [
    "## Combinación lineal de vectores\n",
    "\n",
    "Las operaciones de adición y multiplicación se pueden combinar linealmente:\n",
    "\n",
    "$$\n",
    "\\alpha \\bf{x} + \\beta \\bf{y} = \n",
    "\\alpha\n",
    "\\begin{bmatrix}\n",
    "x_1 \\\\ \n",
    "x_2\n",
    "\\end{bmatrix}+\n",
    "\\beta\n",
    "\\begin{bmatrix}\n",
    "y_1 \\\\ \n",
    "y_2\n",
    "\\end{bmatrix}=\n",
    "\\begin{bmatrix}\n",
    "\\alpha x_1 + \\beta y_1\\\\ \n",
    "\\alpha x_2 + \\beta y_2\n",
    "\\end{bmatrix}\n",
    "$$\n",
    "\n",
    "Consideremos $\\alpha = 3$, $\\beta = 2$, $x = [4, 6]$ y $y = [1, 2]$, para lo cual se obtiene:\n",
    "\n",
    "$$\n",
    "\\alpha \\bf{x} + \\beta \\bf{y} = \n",
    "3\n",
    "\\begin{bmatrix}\n",
    "4 \\\\ \n",
    "6\n",
    "\\end{bmatrix}+\n",
    "2\n",
    "\\begin{bmatrix}\n",
    "1 \\\\ \n",
    "2\n",
    "\\end{bmatrix}=\n",
    "\\begin{bmatrix}\n",
    "3 \\times 4 + 2 \\times 1\\\\ \n",
    "3 \\times 6 + 2 \\times 2\n",
    "\\end{bmatrix}=\n",
    "\\begin{bmatrix}\n",
    "14 \\\\\n",
    "22\n",
    "\\end{bmatrix}\n",
    "$$\n",
    "\n",
    "Otra forma de expresar la combinación lineal de vectores es a través de la notación de sumatoria. Considerando los un conjunto de vectores $x_1, x_2, \\cdots, x_k$ y escalares $\\alpha_1, \\alpha_2, \\cdots, \\alpha_k \\in \\mathbb{R}$, entonces:\n",
    "\n",
    "$$\\sum_{i=1}^k \\beta_i x_i := \\beta_1x_1 + ... + \\beta_kx_k$$\n",
    "\n",
    "* $:=$ significa \"*se define como*\".\n",
    "\n",
    "La combinación lineal es una de las operaciones más fundamentales en el álgebra lineal. La mayoría de resultados se obtienen a través de combinaciones lineales, por ejemplo, la **regresión lineal** corresponde a una combinación lineal entre vectores.\n",
    "\n",
    "En <code>Numpy</code> se calcula la combinación lineal de la siguiente manera:"
   ]
  },
  {
   "cell_type": "code",
   "execution_count": 17,
   "metadata": {},
   "outputs": [],
   "source": [
    "a, b = 3, 2\n",
    "x , y = np.array([[4],[6]]), np.array([[1], [2]])"
   ]
  },
  {
   "cell_type": "code",
   "execution_count": 18,
   "metadata": {},
   "outputs": [
    {
     "data": {
      "text/plain": [
       "array([[14],\n",
       "       [22]])"
      ]
     },
     "execution_count": 18,
     "metadata": {},
     "output_type": "execute_result"
    }
   ],
   "source": [
    "a*x + b*y"
   ]
  },
  {
   "cell_type": "markdown",
   "metadata": {},
   "source": [
    "## Producto punto entre vectores (multiplicación vectorial)\n",
    "\n",
    "El producto punto entre $\\bf{x}$ y $\\bf{y}$ de define como:\n",
    "\n",
    "$$\n",
    "% <![CDATA[\n",
    "<\\bf{x} \\cdot \\bf{y}> :=\n",
    "\\begin{bmatrix}\n",
    "x_1 \\\\\n",
    "x_2\n",
    "\\end{bmatrix}^T\n",
    "\\begin{bmatrix}\n",
    "y_1 \\\\\n",
    "y_2\n",
    "\\end{bmatrix} =\n",
    "\\begin{bmatrix}\n",
    "x_1 & x_2\n",
    "\\end{bmatrix}\n",
    "\\begin{bmatrix}\n",
    "y_1 \\\\\n",
    "y_2\n",
    "\\end{bmatrix} =\n",
    "x_1 * y_1 + x_2 * y_2 %]]>\n",
    "$$\n",
    "\n",
    "Donde súper **T** denota la transpuesta del vector $\\bf{x}$.\n",
    "\n",
    "$$\n",
    "% <![CDATA[\n",
    "<\\bf{x} \\cdot \\bf{y}> =\n",
    "\\begin{bmatrix}\n",
    "-2 \\\\\n",
    "2\n",
    "\\end{bmatrix}^T\n",
    "\\begin{bmatrix}\n",
    "4 \\\\\n",
    "-3\n",
    "\\end{bmatrix} =\n",
    "\\begin{bmatrix}\n",
    "-2 & 2\n",
    "\\end{bmatrix}\n",
    "\\begin{bmatrix}\n",
    "4 \\\\\n",
    "-3\n",
    "\\end{bmatrix} =\n",
    "-2 * 4 + 2 * -3 = (-8) + (-6) = -14 %]]>\n",
    "$$\n",
    "\n",
    "Para usar el producto punto en <code>Numpy</code> se requiere usar el operador <code>@</code>"
   ]
  },
  {
   "cell_type": "code",
   "execution_count": 19,
   "metadata": {},
   "outputs": [],
   "source": [
    "x, y = np.array([[-2],[2]]), np.array([[4],[-3]])"
   ]
  },
  {
   "cell_type": "code",
   "execution_count": 20,
   "metadata": {},
   "outputs": [
    {
     "data": {
      "text/plain": [
       "array([[-14]])"
      ]
     },
     "execution_count": 20,
     "metadata": {},
     "output_type": "execute_result"
    }
   ],
   "source": [
    "x.T @ y"
   ]
  },
  {
   "cell_type": "markdown",
   "metadata": {},
   "source": [
    "## Normas vectoriales\n",
    "\n",
    "La medición de vectores es otra operación importante en las aplicaciones de ML. La norma o la longitud de un vector es una medida de la distancia entre su \"*origen*\" y su \"*fin*\".\n",
    "\n",
    "Las normas \"*mapean*\" los vectores a valores no negativos. Es decir, son funciones que asignan longitud $\\lVert \\bf{x} \\rVert \\in \\mathbb{R^n}$ a un vector $\\bf{x}$. Una norma debe satisfacer las siguientes propiedades:\n",
    "\n",
    "* **Homogeneidad absoluta**: $\\forall \\alpha \\in \\mathbb{R},  \\lVert \\alpha \\bf{x} \\rVert = \\vert \\alpha \\vert \\lVert \\bf{x} \\rVert$.\n",
    "\n",
    "* **Desigualdad Triangular**: $\\lVert \\bf{x} + \\bf{y} \\rVert \\le \\lVert \\bf{x} \\rVert + \\lVert \\bf{y} \\rVert$\n",
    "\n",
    "* **Definida positiva**: $\\lVert \\bf{x} \\rVert \\ge 0$ y $\\lVert \\bf{x} \\rVert = 0 \\Longleftrightarrow \\bf{x}= 0$\n"
   ]
  },
  {
   "cell_type": "code",
   "execution_count": 21,
   "metadata": {},
   "outputs": [
    {
     "data": {
      "image/png": "[encoded data removed]",
      "text/plain": [
       "<IPython.core.display.Image object>"
      ]
     },
     "execution_count": 21,
     "metadata": {
      "image/png": {
       "height": 400,
       "width": 700
      }
     },
     "output_type": "execute_result"
    }
   ],
   "source": [
    "#Import library\n",
    "from IPython.display import Image\n",
    "# Load image from local storage\n",
    "Image(filename = \"/media/rho/datos/Normas.png\", width = 700, height = 400)"
   ]
  },
  {
   "cell_type": "markdown",
   "metadata": {},
   "source": [
    "\n",
    "### Norma euclideana\n",
    "\n",
    "Conocida simplemente como \"*la norma de un vector*\", está definida por:\n",
    "\n",
    "$$\\lVert \\bf{x} \\rVert_2 := \\sqrt{\\sum_{i=1}^n x_i^2} = \\sqrt{x^Tx}$$\n",
    "\n",
    "En dos dimensiones la norma $L_2$ toma la forma:\n",
    "\n",
    "$$\\lVert \\bf{x} \\rVert_2 \\in \\mathbb{R}^2 = \\sqrt {x_1^2  \\cdot x_2^2 }$$\n",
    "\n",
    "Y se sigue el mismo patrón para cualquier dimensión $\\mathbb{R}^n$. En <code>Numpy</code>, la norma $L_2$ se calcula como:"
   ]
  },
  {
   "cell_type": "code",
   "execution_count": 22,
   "metadata": {},
   "outputs": [
    {
     "data": {
      "text/plain": [
       "5.0"
      ]
     },
     "execution_count": 22,
     "metadata": {},
     "output_type": "execute_result"
    }
   ],
   "source": [
    "x = np.array([3,4])\n",
    "np.linalg.norm(x, 2)"
   ]
  },
  {
   "cell_type": "code",
   "execution_count": 23,
   "metadata": {},
   "outputs": [
    {
     "data": {
      "text/plain": [
       "5.0"
      ]
     },
     "execution_count": 23,
     "metadata": {},
     "output_type": "execute_result"
    }
   ],
   "source": [
    "np.sqrt(3**2+4**2)"
   ]
  },
  {
   "cell_type": "markdown",
   "metadata": {},
   "source": [
    "\n",
    "### Norma Manhattan\n",
    "\n",
    "También conocida como distancia de Manhattan, la norma $L_1$ es una analogía al análisis de la medida de distancias en la ciudad de Manhattan (NYC). Viendo a Manhattan como una grilla, la distancia entre dos puntos se puede calcular a través del movimiento horizontal y verticalsobre la grilla (No diagonal como en el caso de la distancia euclideana). También es conocida comola Distancia del taxi.\n",
    "\n",
    "$$\\lVert \\bf{x} \\rVert_1 := \\sum_{i=1}^n \\vert x_i \\vert$$\n",
    "\n",
    "La norma $L_1$ es principalmente usada cuando se busca discriminar entre elementos que son exactamente nulos yelementos que son muy pequeños pero no nulos.\n",
    "\n",
    "En <code>Numpy</code>, la norma $L_1$ se calcula como:"
   ]
  },
  {
   "cell_type": "code",
   "execution_count": 24,
   "metadata": {},
   "outputs": [
    {
     "data": {
      "text/plain": [
       "9.0"
      ]
     },
     "execution_count": 24,
     "metadata": {},
     "output_type": "execute_result"
    }
   ],
   "source": [
    "x = np.array([[4],[-5]])\n",
    "np.linalg.norm(x, 1)"
   ]
  },
  {
   "cell_type": "code",
   "execution_count": 25,
   "metadata": {},
   "outputs": [
    {
     "data": {
      "text/plain": [
       "9.0"
      ]
     },
     "execution_count": 25,
     "metadata": {},
     "output_type": "execute_result"
    }
   ],
   "source": [
    "np.abs(4.0) + np.abs(-5.0)"
   ]
  },
  {
   "cell_type": "markdown",
   "metadata": {},
   "source": [
    "# Matrices\n",
    "\n",
    "Con vectores, se representan variables individuales como conjuntos de números o instancias. Con **matrices** se  representan conjuntos de variables. En este sentido, una matriz es se puede ver como un arreglo ordenado de vectores (vectores de columna).\n",
    "\n",
    "Formalmente, una matriz $\\bf{A_{n*p}}$ es un arreglo con $i = 1, 2, \\cdots, n$ filas y $j = 1, 2, \\cdots, p$ columnas, por lo que cada entrada de la matriz corresponde a un elemento $a_{ij}$. Una matriz $A \\in \\mathbb{R^{n x p}}$ se define como:\n",
    "\n",
    "$$\n",
    "% <![CDATA[\n",
    "A :=\n",
    "\\begin{bmatrix}\n",
    "a_{11} & a_{12} & \\cdots & a_{1p}\\\\\n",
    "a_{21} & a_{22} & \\cdots & a_{2p}\\\\\n",
    "\\vdots & \\vdots & \\ddots & \\vdots\\\\\n",
    "a_{n1} & a_{n2} & \\cdots & a_{np}\n",
    "\\end{bmatrix},\n",
    "a_{ij} \\in \\mathbb{R} %]]>\n",
    "$$\n",
    "\n",
    "En <code>Numpy</code>, se construyen las matrices conel método <code>array</code>:"
   ]
  },
  {
   "cell_type": "code",
   "execution_count": 26,
   "metadata": {},
   "outputs": [
    {
     "data": {
      "text/plain": [
       "array([[0, 3],\n",
       "       [5, 1]])"
      ]
     },
     "execution_count": 26,
     "metadata": {},
     "output_type": "execute_result"
    }
   ],
   "source": [
    "A = np.array([[0,3],  # Primera Fila\n",
    "              [5,1]]) # Segunda Fila\n",
    "A"
   ]
  },
  {
   "cell_type": "markdown",
   "metadata": {},
   "source": [
    "## Operaciones básicas entre matrices\n",
    "\n",
    "### Suma de matrices\n",
    "\n",
    "La suma de $A \\in \\mathbb{R^{n \\times p}}$ y $B \\in \\mathbb{R^{n \\times p}}$, está definida como:\n",
    "$$\n",
    "% <![CDATA[\n",
    "\\textit{A} + \\textit{B} := \n",
    "\\begin{bmatrix}\n",
    "a_{11} + b_{11} & \\cdots & a_{1p} + b_{1p} \\\\\n",
    "\\vdots & \\ddots & \\vdots \\\\\n",
    "a_{n1} + b_{n1} & \\cdots & a_{np} + b_{np}\n",
    "\\end{bmatrix}\n",
    "\\in \\mathbb{R^{n\\times p}} %]]>\n",
    "$$\n",
    "\n",
    "Por ejemplo: $% <![CDATA[\n",
    "\\textit{A} = \n",
    "\\begin{bmatrix}\n",
    "0 & 3 \\\\\n",
    "5 & 1\n",
    "\\end{bmatrix} + \n",
    "\\textit{B} = \n",
    "\\begin{bmatrix}\n",
    "-3 & 0 \\\\\n",
    "7 & 1\n",
    "\\end{bmatrix}=\n",
    "\\begin{bmatrix}\n",
    "0+(-3) & 3+0 \\\\\n",
    "5+7 & 1+1\n",
    "\\end{bmatrix}=\n",
    "\\begin{bmatrix}\n",
    "-3 & 3 \\\\\n",
    "12 & 2\n",
    "\\end{bmatrix} %]]>$\n",
    "\n",
    "En <code>Numpy</code>, sumamos matrices con el operador `+` o con el método `add`:"
   ]
  },
  {
   "cell_type": "code",
   "execution_count": 27,
   "metadata": {},
   "outputs": [],
   "source": [
    "A = np.array([[0,3],\n",
    "              [5,1]])\n",
    "B = np.array([[-3,0],\n",
    "              [7,1]])"
   ]
  },
  {
   "cell_type": "code",
   "execution_count": 28,
   "metadata": {},
   "outputs": [
    {
     "data": {
      "text/plain": [
       "array([[-3,  3],\n",
       "       [12,  2]])"
      ]
     },
     "execution_count": 28,
     "metadata": {},
     "output_type": "execute_result"
    }
   ],
   "source": [
    "A + B"
   ]
  },
  {
   "cell_type": "code",
   "execution_count": 29,
   "metadata": {},
   "outputs": [
    {
     "data": {
      "text/plain": [
       "array([[-3,  3],\n",
       "       [12,  2]])"
      ]
     },
     "execution_count": 29,
     "metadata": {},
     "output_type": "execute_result"
    }
   ],
   "source": [
    "np.add(A, B)"
   ]
  },
  {
   "cell_type": "markdown",
   "metadata": {},
   "source": [
    "### Multiplicación por un escalar\n",
    "\n",
    "Esta es una operación elemento a elemento, es decir,cada elemento de la matriz $A \\in \\mathbb{R^{n \\times p}}$ es multiplicado por un escalar $\\bf{k}$.\n",
    "\n",
    "$$a_{ij} \\times k, \\text{tal que} (k \\textit{A})_{ij} = k(\\textit{A})_{ij}$$\n",
    "\n",
    "Considere $k = 2$ y $A = [[0,3],\\\\ \\ \\ \\ \\ \\ \\ \\ \\ \\  [5,1]]$, entonces:\n",
    "\n",
    "$$\n",
    "% <![CDATA[\n",
    "k \\textit{A} =\n",
    "2\n",
    "\\begin{bmatrix}\n",
    "0 & 3 \\\\\n",
    "5 & 1\n",
    "\\end{bmatrix}=\n",
    "\\begin{bmatrix}\n",
    "2\\times 0 & 2\\times 3 \\\\\n",
    "2\\times 5 & 2 \\times1 \n",
    "\\end{bmatrix}=\n",
    "\\begin{bmatrix}\n",
    "0 & 6 \\\\\n",
    "10 & 2 \n",
    "\\end{bmatrix} %]]>\n",
    "$$\n",
    "\n",
    "En <code>Numpy</code>, se multiplican escalarares y matrices con el operador `*` o con el método `multiply`:"
   ]
  },
  {
   "cell_type": "code",
   "execution_count": 30,
   "metadata": {},
   "outputs": [],
   "source": [
    "k = 2\n",
    "A = np.array([[0,3],\n",
    "              [5,1]])"
   ]
  },
  {
   "cell_type": "code",
   "execution_count": 31,
   "metadata": {},
   "outputs": [
    {
     "data": {
      "text/plain": [
       "array([[ 0,  6],\n",
       "       [10,  2]])"
      ]
     },
     "execution_count": 31,
     "metadata": {},
     "output_type": "execute_result"
    }
   ],
   "source": [
    "k * A"
   ]
  },
  {
   "cell_type": "code",
   "execution_count": 32,
   "metadata": {},
   "outputs": [
    {
     "data": {
      "text/plain": [
       "array([[ 0,  6],\n",
       "       [10,  2]])"
      ]
     },
     "execution_count": 32,
     "metadata": {},
     "output_type": "execute_result"
    }
   ],
   "source": [
    "np.multiply(k, A)"
   ]
  },
  {
   "cell_type": "markdown",
   "metadata": {},
   "source": [
    "### Multiplicación matriz-vector (producto punto)\n",
    "\n",
    "Es igual al producto punto entre cada columna de la matriz $\\bf{A_{n \\times p}}$ y el vector $\\bf{x^T}$ el cuales de tamaño ${p \\times 1}$, con lo cual se obtiene un vector de tamaño ${n \\times 1}$.\n",
    "\n",
    "\n",
    "$$\n",
    "x = \\begin{bmatrix}\n",
    "x_1 & \\cdots & x_p\n",
    "\\end{bmatrix}\n",
    "$$\n",
    "\n",
    "$$\n",
    "x^T = \\begin{bmatrix}\n",
    "x_1 \\\\ \\cdots \\\\ x_p\n",
    "\\end{bmatrix}\n",
    "$$\n",
    "\n",
    "$$\n",
    "% <![CDATA[\n",
    "A :=\n",
    "\\begin{bmatrix}\n",
    "a_{11} & a_{12} & \\cdots & a_{1p}\\\\\n",
    "a_{21} & a_{22} & \\cdots & a_{2p}\\\\\n",
    "\\vdots & \\vdots & \\ddots & \\vdots\\\\\n",
    "a_{n1} & a_{n2} & \\cdots & a_{np}\n",
    "\\end{bmatrix},\n",
    "a_{ij} \\in \\mathbb{R} %]]>\n",
    "$$\n",
    "\n",
    "$$\n",
    "% <![CDATA[\n",
    "\\textit{A}\\cdot\\bf{x^T}:=\n",
    "\\begin{bmatrix}\n",
    "a_{11} & \\cdots & a_{1p}\\\\\n",
    "\\vdots & \\ddots & \\vdots\\\\\n",
    "a_{n1} & \\cdots & a_{np}\n",
    "\\end{bmatrix}\n",
    "\\begin{bmatrix}\n",
    "x_1\\\\\n",
    "\\vdots\\\\\n",
    "x_p\n",
    "\\end{bmatrix}=\n",
    "x_1\n",
    "\\begin{bmatrix}\n",
    "a_{11}\\\\\n",
    "\\vdots\\\\\n",
    "a_{n1}\n",
    "\\end{bmatrix}+\n",
    "x_2\n",
    "\\begin{bmatrix}\n",
    "a_{12}\\\\\n",
    "\\vdots\\\\\n",
    "a_{n2}\n",
    "\\end{bmatrix}+ \\cdots + \n",
    "x_p\n",
    "\\begin{bmatrix}\n",
    "a_{1p}\\\\\n",
    "\\vdots\\\\\n",
    "a_{np}\n",
    "\\end{bmatrix}=\n",
    "\\begin{bmatrix}\n",
    "y_1\\\\\n",
    "\\vdots\\\\\n",
    "y_{n1}\n",
    "\\end{bmatrix} %]]>\n",
    "$$\n",
    "\n",
    "Por ejemplo:\n",
    "\n",
    "$$\n",
    "% <![CDATA[\n",
    "\\textit{A}\\cdot\\bf{x^T}=\n",
    "\\begin{bmatrix}\n",
    "0 & 3\\\\\n",
    "5 & 1\n",
    "\\end{bmatrix}\n",
    "\\begin{bmatrix}\n",
    "2\\\\\n",
    "3\n",
    "\\end{bmatrix}=\n",
    "2\n",
    "\\begin{bmatrix}\n",
    "0 \\\\\n",
    "5\n",
    "\\end{bmatrix}+\n",
    "3\n",
    "\\begin{bmatrix}\n",
    "3 \\\\\n",
    "1\n",
    "\\end{bmatrix}=\n",
    "\\begin{bmatrix}\n",
    "2\\times0 + 3\\times3 \\\\\n",
    "2\\times5 + 3\\times1\n",
    "\\end{bmatrix}=\n",
    "\\begin{bmatrix}\n",
    "9 \\\\\n",
    "13\n",
    "\\end{bmatrix} %]]>\n",
    "$$\n"
   ]
  },
  {
   "cell_type": "code",
   "execution_count": 33,
   "metadata": {},
   "outputs": [],
   "source": [
    "A = np.array([[0,3],\n",
    "              [5,1]])\n",
    "x = np.array([[2, 3]])"
   ]
  },
  {
   "cell_type": "code",
   "execution_count": 34,
   "metadata": {},
   "outputs": [
    {
     "data": {
      "text/plain": [
       "array([[ 9],\n",
       "       [13]])"
      ]
     },
     "execution_count": 34,
     "metadata": {},
     "output_type": "execute_result"
    }
   ],
   "source": [
    "A @ x.T"
   ]
  },
  {
   "cell_type": "code",
   "execution_count": 35,
   "metadata": {},
   "outputs": [
    {
     "data": {
      "text/plain": [
       "array([[ 9],\n",
       "       [13]])"
      ]
     },
     "execution_count": 35,
     "metadata": {},
     "output_type": "execute_result"
    }
   ],
   "source": [
    "np.dot(A, x.T)"
   ]
  },
  {
   "cell_type": "markdown",
   "metadata": {},
   "source": [
    "#### Multiplicación matricial\n",
    "\n",
    "La multiplicación matricial $\\bf{AB}$ también es un producto de puntos, en la cual, para que sea posible desarrollar, el número de columnas de la matriz $\\bf{A}$ tiene que ser igual al número de filas de la matriz $\\bf{B}$, por lo que $A \\in \\mathbb{n \\times p}$ y $B \\in \\mathbb{p \\times m}$. Una manera de ver la multiplicación matricial es tomando una serie de productos escalares: la primera fila de $\\bf{A}$ multiplicada por la primera columna de $\\bf{A}$, la segunda fila de $\\bf{A}$ multiplicada por la segunda columna de $\\bf{A}$, y así sucesivamente hasta la *n-ésima* fila de A multiplicada por la *m-ésima* columna de $\\bf{B}$.\n",
    "\n",
    "Definiendo $\\textit{A} \\in \\mathbb{R^{n\\times p}} \\cdot \\textit{B} \\in \\mathbb{R^{p\\times m}} = \\textit{C} \\in \\mathbb{R^{n\\times m}}$:\n",
    "\n",
    "$$\n",
    "% <![CDATA[\n",
    "\\textit{A}\\cdot\\textit{B}:=\n",
    "\\begin{bmatrix}\n",
    "a_{11} & \\cdots & a_{1p}\\\\\n",
    "\\vdots & \\ddots & \\vdots\\\\\n",
    "a_{n1} & \\cdots & a_{np}\n",
    "\\end{bmatrix}\n",
    "\\begin{bmatrix}\n",
    "b_{11} & \\cdots & b_{1m}\\\\\n",
    "\\vdots & \\ddots & \\vdots\\\\\n",
    "b_{p1} & \\cdots & b_{pm}\n",
    "\\end{bmatrix}=\n",
    "\\begin{bmatrix}\n",
    "c_{11} & \\cdots & c_{1m}\\\\\n",
    "\\vdots & \\ddots & \\vdots\\\\\n",
    "c_{n1} & \\cdots & c_{nm}\n",
    "\\end{bmatrix} %]]>\n",
    "$$\n",
    "\n",
    "donde:\n",
    "\n",
    "$$c_{ij} := \\sum_{l=1}^p a_{il}b_{lj}, \\text{  with   }i=1,...n, \\text{ and}, j=1,...,m$$\n",
    "\n",
    "Por ejemplo:\n",
    "\n",
    "$$\n",
    "% <![CDATA[\n",
    "\\textit{A}\\cdot\\textit{B}=\n",
    "\\begin{bmatrix}\n",
    "0 & 3\\\\\n",
    "5 & 1\n",
    "\\end{bmatrix}\n",
    "\\begin{bmatrix}\n",
    "3 & 0\\\\\n",
    "7 & 1\n",
    "\\end{bmatrix}=\n",
    "\\begin{bmatrix}\n",
    "0\\times3 + 3\\times7 & 0\\times0 + 3\\times1 \\\\\n",
    "5\\times3 + 1\\times7 & 5\\times0 + 1\\times1\n",
    "\\end{bmatrix}=\n",
    "\\begin{bmatrix}\n",
    "21 & 3\\\\\n",
    "22 & 1\n",
    "\\end{bmatrix} %]]>\n",
    "$$\n",
    "\n",
    "La multiplicación matricial presenta las siguientes propiedades:\n",
    "\n",
    "* $(\\textit{A}\\textit{B}) \\textit{C} = \\textit{A}(\\textit{B}\\textit{C})$\n",
    "* $k (\\textit{A}\\textit{B}) = (k \\textit{A}) \\textit{B}$\n",
    "* $\\textit{A}(\\textit{B}+\\textit{C}) = A+B + AC$\n",
    "* $(\\textit{A}\\textit{B})^T = \\textit{B}^T\\textit{A}^T$\n",
    "* $AB \\ne BA$\n",
    "\n",
    "En <code>Numpy</code>, se obtiene la multiplicación matricial `@` o con el método `dot`:"
   ]
  },
  {
   "cell_type": "code",
   "execution_count": 36,
   "metadata": {},
   "outputs": [],
   "source": [
    "A = np.array([[0,3],\n",
    "              [5,1]])\n",
    "B = np.array([[3,0],\n",
    "              [7,1]])"
   ]
  },
  {
   "cell_type": "code",
   "execution_count": 37,
   "metadata": {},
   "outputs": [
    {
     "data": {
      "text/plain": [
       "array([[21,  3],\n",
       "       [22,  1]])"
      ]
     },
     "execution_count": 37,
     "metadata": {},
     "output_type": "execute_result"
    }
   ],
   "source": [
    "A @ B"
   ]
  },
  {
   "cell_type": "code",
   "execution_count": 38,
   "metadata": {},
   "outputs": [
    {
     "data": {
      "text/plain": [
       "array([[21,  3],\n",
       "       [22,  1]])"
      ]
     },
     "execution_count": 38,
     "metadata": {},
     "output_type": "execute_result"
    }
   ],
   "source": [
    "np.dot(A, B)"
   ]
  },
  {
   "cell_type": "markdown",
   "metadata": {},
   "source": [
    "### Inversa de una matriz\n",
    "\n",
    "En los números reales el inverso multiplicativo de un numero $\\bf{x}$ es aquel cuyo resultado de la multiplicación es igual a 1. Denotando $\\bf{x^{-1}}$ o $\\frac{1}{x}$. Por ejemplo si $\\bf{x} = 6$, entonces su inverso multiplicativo es $6 \\times \\frac{1}{6} = 1$.\n",
    "\n",
    "La inversa de una matriz juega el mismo papel que el inverso multiplicativo de un número real, pero aplicada a matrices, por lo que el producto entre una matriz y su \"*inverso multiplicativo*\" de como resultado una matriz llamada identidad.\n",
    "\n",
    "Considere una matriz cuadrada $A \\in \\mathbb{R^{n \\times n}}$, su matriz inversa tiene las siguientes propiedades:\n",
    "\n",
    "$$\\textit{A}^{-1}\\textit{A} = \\textit{I}_n = \\textit{A}\\textit{A}^{-1}$$\n",
    "\n",
    "La razón principal por la que interesa conocecr la inversa de un matriz, es por la capacidad de resolver sistemas de ecuaciones lineales en determinadas situaciones. Considerando un sistema de ecuaciones lineales como:\n",
    "\n",
    "$$\\textit{A}\\bf{x} = \\bf{y}$$\n",
    "\n",
    "Siempre y cuando $\\bf{A}$ tenga inversa, podemos multiplicar la inversa en ambos lados de la igualdad:\n",
    "\n",
    "$$\\textit{A}^{-1}\\textit{A}\\bf{x} = \\textit{A}^{-1}\\bf{y}$$\n",
    "\n",
    "y obtener\n",
    "\n",
    "$$\\textit{I}\\bf{x} = \\textit{A}^{-1}\\bf{y}$$\n",
    "\n",
    "$\\bf{I}$ no afecta a $\\bf{x}$, por lo que:\n",
    "\n",
    "$$\\bf{x} = \\textit{A}^{-1}\\bf{y}$$\n",
    "\n",
    "Esto significa que solo se requiere conocer la inversa de la matriz $\\bf{x}$, multiplicar por el vector respuesta $\\bf{y}$, y se obtiene la solución del sistema de ecuaciones. Esto solo funciona cuando $\\bf{A}$ es invertible.\n",
    "\n",
    "En <code>Numpy</code>, se obtiene la inversa de una matriz con el método `.linalg.inv`:"
   ]
  },
  {
   "cell_type": "code",
   "execution_count": 39,
   "metadata": {},
   "outputs": [],
   "source": [
    "A = np.array([[-1, 5, 2],\n",
    "              [4, 6, 2],\n",
    "              [7, 0, 3]])"
   ]
  },
  {
   "cell_type": "code",
   "execution_count": 40,
   "metadata": {},
   "outputs": [
    {
     "data": {
      "text/plain": [
       "array([[-0.19565217,  0.16304348,  0.02173913],\n",
       "       [-0.02173913,  0.18478261, -0.10869565],\n",
       "       [ 0.45652174, -0.38043478,  0.2826087 ]])"
      ]
     },
     "execution_count": 40,
     "metadata": {},
     "output_type": "execute_result"
    }
   ],
   "source": [
    "A_i = np.linalg.inv(A)\n",
    "A_i"
   ]
  },
  {
   "cell_type": "markdown",
   "metadata": {},
   "source": [
    "Comprobando si $\\textit{A}^{-1}\\textit{A} = \\textit{I}_n = \\textit{A}\\textit{A}^{-1}$:"
   ]
  },
  {
   "cell_type": "code",
   "execution_count": 41,
   "metadata": {},
   "outputs": [
    {
     "data": {
      "text/plain": [
       "array([[ 1.00000000e+00, -1.66533454e-16, -6.93889390e-17],\n",
       "       [-4.16333634e-17,  1.00000000e+00, -4.16333634e-17],\n",
       "       [-5.55111512e-17,  1.11022302e-16,  1.00000000e+00]])"
      ]
     },
     "execution_count": 41,
     "metadata": {},
     "output_type": "execute_result"
    }
   ],
   "source": [
    "A_i @ A"
   ]
  },
  {
   "cell_type": "code",
   "execution_count": 42,
   "metadata": {},
   "outputs": [
    {
     "data": {
      "text/plain": [
       "array([[ 1., -0., -0.],\n",
       "       [-0.,  1., -0.],\n",
       "       [-0.,  0.,  1.]])"
      ]
     },
     "execution_count": 42,
     "metadata": {},
     "output_type": "execute_result"
    }
   ],
   "source": [
    "I = np.round(A_i @ A)\n",
    "I"
   ]
  },
  {
   "cell_type": "code",
   "execution_count": 43,
   "metadata": {},
   "outputs": [],
   "source": [
    "A = np.array([[2, 6, 10],\n",
    "              [4, 4, -2],\n",
    "              [2, 6, 4]])\n",
    "y = np.array([[-1],\n",
    "              [1],\n",
    "              [2]])"
   ]
  },
  {
   "cell_type": "code",
   "execution_count": 44,
   "metadata": {},
   "outputs": [],
   "source": [
    "x = np.linalg.inv(A)@y"
   ]
  },
  {
   "cell_type": "code",
   "execution_count": 45,
   "metadata": {},
   "outputs": [
    {
     "data": {
      "text/plain": [
       "array([[-1. ],\n",
       "       [ 1. ],\n",
       "       [-0.5]])"
      ]
     },
     "execution_count": 45,
     "metadata": {},
     "output_type": "execute_result"
    }
   ],
   "source": [
    "x"
   ]
  },
  {
   "cell_type": "code",
   "execution_count": 46,
   "metadata": {},
   "outputs": [
    {
     "data": {
      "text/plain": [
       "array([[-1.],\n",
       "       [ 1.],\n",
       "       [ 2.]])"
      ]
     },
     "execution_count": 46,
     "metadata": {},
     "output_type": "execute_result"
    }
   ],
   "source": [
    "A@x"
   ]
  }
 ],
 "metadata": {
  "kernelspec": {
   "display_name": "Python 3",
   "language": "python",
   "name": "python3"
  },
  "language_info": {
   "codemirror_mode": {
    "name": "ipython",
    "version": 3
   },
   "file_extension": ".py",
   "mimetype": "text/x-python",
   "name": "python",
   "nbconvert_exporter": "python",
   "pygments_lexer": "ipython3",
   "version": "3.6.9"
  }
 },
 "nbformat": 4,
 "nbformat_minor": 4
}
